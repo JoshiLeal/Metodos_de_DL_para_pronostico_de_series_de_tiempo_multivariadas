{
 "cells": [
  {
   "cell_type": "markdown",
   "id": "993ff822",
   "metadata": {
    "id": "993ff822"
   },
   "source": [
    "# <center> CNN Forecasting </center>"
   ]
  },
  {
   "cell_type": "code",
   "execution_count": 110,
   "id": "0be2c96e",
   "metadata": {
    "id": "0be2c96e"
   },
   "outputs": [],
   "source": [
    "import pandas as pd\n",
    "import numpy as np\n",
    "import torch.nn as nn\n",
    "import torch\n",
    "import torch.optim as optim\n",
    "import torch.nn.functional as F\n",
    "import matplotlib.pyplot as plt\n",
    "\n",
    "from sklearn.preprocessing import MinMaxScaler\n",
    "from torch.utils.data import TensorDataset, DataLoader, Dataset\n",
    "from torch.optim.lr_scheduler import ExponentialLR"
   ]
  },
  {
   "cell_type": "code",
   "execution_count": 16,
   "id": "cSu_v0GBdIu_",
   "metadata": {
    "colab": {
     "base_uri": "https://localhost:8080/"
    },
    "id": "cSu_v0GBdIu_",
    "outputId": "1e80956d-c502-4daf-e9de-69ba07a274c3"
   },
   "outputs": [
    {
     "name": "stdout",
     "output_type": "stream",
     "text": [
      "Mounted at /content/drive\n"
     ]
    }
   ],
   "source": [
    "from google.colab import drive\n",
    "drive.mount('/content/drive')"
   ]
  },
  {
   "cell_type": "code",
   "execution_count": 2,
   "id": "53334b75",
   "metadata": {
    "id": "53334b75"
   },
   "outputs": [],
   "source": [
    "def create_sequences(serie, ventana):\n",
    "    x = []\n",
    "    y = []\n",
    "\n",
    "    for i in range(len(serie)):\n",
    "        idx = i+ventana\n",
    "        if(idx >= len(serie)):\n",
    "            break\n",
    "        else:\n",
    "            x.append(serie[i:(i+ventana)])\n",
    "            y.append(serie[i+ventana])\n",
    "\n",
    "    return torch.from_numpy(np.array(x)).float(), torch.from_numpy(np.array(y)).float()"
   ]
  },
  {
   "cell_type": "code",
   "execution_count": 25,
   "id": "c0f94fc7",
   "metadata": {
    "id": "c0f94fc7"
   },
   "outputs": [],
   "source": [
    "def prepare_dataloaders(path):\n",
    "    categoria = pd.read_csv(path, parse_dates=[\"fecha_hechos\"])\n",
    "    #categoria.drop(columns=[\"fecha_hechos.2\", \"fecha_hechos.1\"], inplace=True)\n",
    "    categoria.index = pd.DatetimeIndex(categoria.fecha_hechos)\n",
    "    \n",
    "    categoria_x_sem = categoria.resample(\"W\", on = \"fecha_hechos\").size()\n",
    "    ts_train_categoria=categoria_x_sem[categoria_x_sem.index<'2021-06']\n",
    "    ts_valid_categoria= categoria_x_sem[categoria_x_sem[categoria_x_sem.index>='2021-06'] &\n",
    "                                        categoria_x_sem[categoria_x_sem.index< \"2022-06\"]]\n",
    "    ts_test_categoria = categoria_x_sem[categoria_x_sem.index>='2022-06']\n",
    "    \n",
    "    scaler = MinMaxScaler(feature_range=(-1, 1))\n",
    "    sca_train_categoria = scaler.fit_transform(ts_train_categoria.values.reshape(-1, 1))\n",
    "    sca_valid_categoria = scaler.transform(ts_valid_categoria.values.reshape(-1,1))\n",
    "    sca_test_categoria = scaler.transform(ts_test_categoria.values.reshape(-1,1))\n",
    "    \n",
    "    X_train, y_train = create_sequences(sca_train_categoria.reshape(len(sca_train_categoria)), 3)\n",
    "    X_val, y_val = create_sequences(sca_valid_categoria.reshape(len(sca_valid_categoria)), 3)\n",
    "    X_test, y_test = create_sequences(sca_test_categoria.reshape(len(sca_test_categoria)), 3)\n",
    "    \n",
    "    batch_size = 1\n",
    "    X_train_tensor = TensorDataset(X_train, y_train)\n",
    "    X_train_dataloader = DataLoader(X_train_tensor, shuffle = False, batch_size=batch_size)\n",
    "    X_train, y_train = [], []\n",
    "\n",
    "    X_val_tensor = TensorDataset(X_val, y_val)\n",
    "    X_val_dataloader = DataLoader(X_val_tensor, shuffle = False, batch_size=batch_size)\n",
    "    X_val, y_val = [], []\n",
    "    \n",
    "    X_test_tensor = TensorDataset(X_test, y_test)\n",
    "    X_test_dataloader = DataLoader(X_test_tensor, shuffle = False, batch_size=batch_size)\n",
    "    X_test, y_test = [], []\n",
    "    \n",
    "    return X_train_dataloader, X_val_dataloader, X_test_dataloader,scaler"
   ]
  },
  {
   "cell_type": "code",
   "execution_count": 4,
   "id": "558bb772",
   "metadata": {
    "id": "558bb772"
   },
   "outputs": [],
   "source": [
    "class CNN1d(nn.Module):\n",
    "    def __init__(self,\n",
    "               dim_emb = 1,\n",
    "               tam_filtros = [5, 4, 3, 2],\n",
    "               num_filtros = [100, 100, 100, 100],\n",
    "               salida_capas_FC = [],\n",
    "               num_clases = 1,\n",
    "               dropout = 0.5,\n",
    "               activacion = 'relu'):\n",
    "        \n",
    "        super(CNN1d, self).__init__()\n",
    "        # ==========================================================================\n",
    "        # Preparación de embeddings\n",
    "        self.dim_emb = dim_emb\n",
    "\n",
    "        # ==========================================================================\n",
    "        # Capa de convolución\n",
    "        self.conv1d_list = nn.ModuleList([nn.Conv1d(in_channels  = self.dim_emb, \n",
    "                                                    out_channels = num_filtros[i], \n",
    "                                                    kernel_size = tam_filtros[i]) \n",
    "                                          for i in range(len(tam_filtros))])\n",
    "\n",
    "        # ==========================================================================\n",
    "        # Capa Fully-connected con BachNormalization y Dropout\n",
    "        # self.fc = nn.Linear(np.sum(num_filtros),num_clases)\n",
    "\n",
    "        self.BN_list = nn.ModuleList([nn.BatchNorm1d(nod) for nod in salida_capas_FC])\n",
    "\n",
    "        if activacion == 'relu':\n",
    "            self.activation = nn.ReLU()\n",
    "        elif activacion == 'tanh':\n",
    "            self.activation = nn.Tanh()\n",
    "\n",
    "        SC_FC = salida_capas_FC\n",
    "        SC_FC.insert(0,np.sum(num_filtros))\n",
    "        SC_FC.append(num_clases)\n",
    "\n",
    "\n",
    "        # Capa para preparar convolución\n",
    "        self.fc_list = nn.ModuleList([nn.Linear(SC_FC[i], SC_FC[i+1]) for i in range(len(SC_FC)-1)])\n",
    "        self.dropout = nn.Dropout(p=dropout)\n",
    "\n",
    "    def forward(self, x):\n",
    "          \n",
    "        '''\n",
    "           Estafunción realiza el paso fordward de la CNN\n",
    "        '''    \n",
    "        # Convoluciones y ReLu: #\n",
    "        #x = x.float()\n",
    "        x_conv_list = [F.relu(conv1d(x)) for conv1d in self.conv1d_list]\n",
    "\n",
    "        # Max pooling\n",
    "        x_pool_list = [F.max_pool1d(x_conv, kernel_size=x_conv.shape[1]) for x_conv in x_conv_list]\n",
    "\n",
    "        # Concatenamos Max pooling como input de Fully-connected\n",
    "        x_fc = torch.cat([x_pool.squeeze(dim=1) for x_pool in x_pool_list], dim=0)\n",
    "\n",
    "        # Fully-connected \n",
    "        n = len(self.BN_list)\n",
    "        x_fc = self.fc_list[0](self.dropout(x_fc))\n",
    "        \n",
    "        for i in range(n):\n",
    "            x_fc = self.activation(x_fc)\n",
    "            x_fc = self.BN_list[i](x_fc)\n",
    "            x_fc = self.fc_list[i+1](x_fc)\n",
    "\n",
    "        return x_fc"
   ]
  },
  {
   "cell_type": "code",
   "execution_count": 5,
   "id": "4b1c0f97",
   "metadata": {
    "id": "4b1c0f97"
   },
   "outputs": [],
   "source": [
    "def Starter_Model(dim_emb = 1,\n",
    "                  tam_filtros = [5, 4, 3, 2],\n",
    "                  num_filtros = [100, 100, 100, 100],\n",
    "                  salida_capas_FC = [300,200,100],\n",
    "                  num_clases = 1,\n",
    "                  dropout = 0.5,\n",
    "                  activacion = 'relu',\n",
    "                  opt = 'Adadelta',\n",
    "                  learning_rate = 0.01,\n",
    "                  rho=0.95):\n",
    "    \n",
    "    \"\"\"\n",
    "    Esta función es un arrancador de una CNN considerando funciones de optimización ya implimentadas \n",
    "    en torch\n",
    "    \"\"\"\n",
    "    # Condición que asegura que sea compatible\n",
    "    if len(tam_filtros) != len(num_filtros):\n",
    "        print(\"E: tam_filtros y num_filtros tiene que ser del mismo tamaño.\")\n",
    "\n",
    "    else:\n",
    "        # Arranque de Modelo\n",
    "        modelo = CNN1d(dim_emb = dim_emb,\n",
    "                       tam_filtros = tam_filtros,\n",
    "                       num_filtros = num_filtros,\n",
    "                       salida_capas_FC = salida_capas_FC,\n",
    "                       num_clases = num_clases,\n",
    "                       dropout = dropout,\n",
    "                       activacion = activacion)\n",
    "        \n",
    "        modelo.to(device)\n",
    "\n",
    "        # Optimizadores\n",
    "        if opt == 'Adam':\n",
    "            opt = optim.Adam(modelo.parameters(), lr = learning_rate)\n",
    "            \n",
    "        elif opt == 'Adadelta':\n",
    "            opt = optim.Adadelta(modelo.parameters(), lr = learning_rate, rho=rho)\n",
    "\n",
    "    return modelo, opt"
   ]
  },
  {
   "cell_type": "code",
   "execution_count": 133,
   "id": "IiF5j_mLh1Mi",
   "metadata": {
    "id": "IiF5j_mLh1Mi"
   },
   "outputs": [],
   "source": [
    "class RNN(nn.Module):\n",
    "    def __init__(self, inputSize, hiddenSize, numLayers,seq_len,num_classes):\n",
    "        super().__init__()\n",
    "        print(\"Esta es una RNN\")\n",
    "        self.num_layers = numLayers\n",
    "        self.input_size = inputSize\n",
    "        self.hidden_size = hiddenSize\n",
    "        self.seq_len = seq_len\n",
    "        self.RNN = nn.RNN(input_size=inputSize, \n",
    "                          hidden_size=hiddenSize, \n",
    "                          num_layers=numLayers, \n",
    "                          nonlinearity='tanh', \n",
    "                          batch_first=True)\n",
    "        self.linear = nn.Linear(hiddenSize,num_classes)\n",
    "        \n",
    "    def forward(self,x):\n",
    "        x=x.reshape([x.size(0),self.seq_len, 1]).float()\n",
    "        hState = torch.zeros([self.num_layers, x.size(0), self.hidden_size])\n",
    "        x, h = self.RNN(x,hState)\n",
    "        out = self.linear(x[:,-1,:]) # gets last output\n",
    "        return out"
   ]
  },
  {
   "cell_type": "code",
   "execution_count": 132,
   "id": "RDeym3qIpEY6",
   "metadata": {
    "id": "RDeym3qIpEY6"
   },
   "outputs": [],
   "source": [
    "class LSTM(nn.Module):\n",
    "\n",
    "    def __init__(self, input_size, hidden_size, num_layers,seq_length, num_classes):\n",
    "        super(LSTM, self).__init__()\n",
    "        print(\"Esta es una LSTM\")\n",
    "        self.num_classes = num_classes\n",
    "        self.num_layers = num_layers\n",
    "        self.input_size = input_size\n",
    "        self.hidden_size = hidden_size\n",
    "        self.seq_len = seq_length\n",
    "\n",
    "        self.lstm = nn.LSTM(input_size=input_size, hidden_size=hidden_size,\n",
    "                            num_layers=num_layers, batch_first=True)\n",
    "        \n",
    "        self.fc = nn.Linear(hidden_size, num_classes)\n",
    "\n",
    "    def forward(self, x):\n",
    "        x=x.reshape([x.size(0),self.seq_len, 1]).float()\n",
    "        h_0 = torch.zeros(self.num_layers, x.size(0), self.hidden_size)\n",
    "        c_0 = torch.zeros(self.num_layers, x.size(0), self.hidden_size)\n",
    "        \n",
    "        # Propagate input through LSTM\n",
    "        _, (h_out, _) = self.lstm(x, (h_0, c_0))\n",
    "        h_out = h_out.view(-1, self.hidden_size)\n",
    "        out = self.fc(h_out)\n",
    "        \n",
    "        return out"
   ]
  },
  {
   "cell_type": "code",
   "execution_count": 157,
   "id": "YlsCkDEcqJw_",
   "metadata": {
    "id": "YlsCkDEcqJw_"
   },
   "outputs": [],
   "source": [
    "class GRU(nn.Module):\n",
    "    def __init__(self, input_dim, hidden_dim, layer_dim, output_dim, seq_length, dropout_prob):\n",
    "        super(GRU, self).__init__()\n",
    "        self.seq_length = seq_length\n",
    "        self.num_layers = layer_dim\n",
    "        self.hidden_size = hidden_dim\n",
    "        self.gru = nn.GRU(\n",
    "            input_dim, hidden_dim, layer_dim, batch_first=True, dropout=dropout_prob)\n",
    "        self.fc = nn.Linear(hidden_dim, output_dim)\n",
    "\n",
    "    def forward(self, x):\n",
    "        x=x.reshape([x.size(0),self.seq_length, 1]).float()\n",
    "        h_0 = torch.zeros(self.num_layers, x.size(0), self.hidden_size)\n",
    "        \n",
    "        _, h_out = self.gru(x, h_0)\n",
    "        h_out = h_out.view(-1, self.hidden_size)\n",
    "        out = self.fc(h_out)\n",
    "\n",
    "        return out"
   ]
  },
  {
   "cell_type": "code",
   "execution_count": 158,
   "id": "xkMkiZiTiBRt",
   "metadata": {
    "id": "xkMkiZiTiBRt"
   },
   "outputs": [],
   "source": [
    "def Starter_Model_Recurent(num_clases = 1,opt = 'Adadelta',learning_rate = 0.01,prob=0.25,\n",
    "                  rho=0.95,device=device,seq_length=3,n_pred=1,red=\"rnn\"):\n",
    "  \n",
    "    if red=='rnn': \n",
    "      modelo = RNN(num_clases,4,2,seq_length,n_pred)\n",
    "    elif red=='lstm':\n",
    "      modelo = LSTM(num_clases,4,2,seq_length,n_pred)\n",
    "    else:\n",
    "        modelo = GRU(num_clases,4,2,n_pred,3,prob)\n",
    "    modelo.to(device)\n",
    "\n",
    "    # Optimizadores\n",
    "    if opt == 'Adam':\n",
    "        opt = optim.Adam(modelo.parameters(), lr = learning_rate)\n",
    "            \n",
    "    elif opt == 'Adadelta':\n",
    "        opt = optim.Adadelta(modelo.parameters(), lr = learning_rate, rho=rho)\n",
    "\n",
    "    return modelo, opt"
   ]
  },
  {
   "cell_type": "code",
   "execution_count": 116,
   "id": "22d1582e",
   "metadata": {
    "id": "22d1582e"
   },
   "outputs": [],
   "source": [
    "def train_step(model, loss_fn, train_loader, optimizer, device):\n",
    "    losses = []\n",
    "    model.train()\n",
    "    \n",
    "    for X, y in train_loader:\n",
    "        X = X.to(device, dtype=torch.float32)\n",
    "        y = y.to(device, dtype=torch.float32)\n",
    "        # Step 1 - Computes model's predicted output - forward pass\n",
    "        model.zero_grad()\n",
    "        yhat = model(X)\n",
    "        #model.zero_grad()\n",
    "\n",
    "        # Step 2 - Computes the loss\n",
    "        loss = loss_fn(yhat.float(), y.float())\n",
    "\n",
    "        # Acumulamos la función de pérdida\n",
    "        losses.append(loss.item())\n",
    "\n",
    "        # Step 3 - Computes gradients for both \"b\" and \"w\" parameters\n",
    "        loss.backward()\n",
    "\n",
    "        # Step 4 - Updates parameters using gradients and the learning rate\n",
    "        optimizer.step()\n",
    "        optimizer.zero_grad()\n",
    "        \n",
    "    return np.mean(losses)"
   ]
  },
  {
   "cell_type": "code",
   "execution_count": 117,
   "id": "966cdfcc",
   "metadata": {
    "id": "966cdfcc"
   },
   "outputs": [],
   "source": [
    "def step_evaluation(model, loss_fn, val_loader, device):\n",
    "    model.eval()\n",
    "    with torch.no_grad():\n",
    "        losses = []\n",
    "        for X, y in val_loader:\n",
    "            X = X.to(device)\n",
    "            y = y.to(device)\n",
    "            \n",
    "            yhat = model(X)\n",
    "            \n",
    "            # Step 2 - Computes the loss\n",
    "            loss = loss_fn(yhat, y)\n",
    "\n",
    "            # Total number of labels\n",
    "            losses.append(loss.item())\n",
    "            \n",
    "    return np.mean(losses)"
   ]
  },
  {
   "cell_type": "code",
   "execution_count": 118,
   "id": "Y4p-aG_QeMM-",
   "metadata": {
    "id": "Y4p-aG_QeMM-"
   },
   "outputs": [],
   "source": [
    "def MakePredictions(model, loader,device):\n",
    "  with torch.no_grad():\n",
    "    Y_shuffled, Y_preds = [], []\n",
    "    for X, Y in loader:\n",
    "        X = X.to(device)\n",
    "        Y = Y.to(device)\n",
    "        preds = model(X)\n",
    "        Y_preds.append(preds.cpu().numpy()[0])\n",
    "  \n",
    "  return Y_preds"
   ]
  },
  {
   "cell_type": "code",
   "execution_count": 119,
   "id": "e0067762",
   "metadata": {
    "id": "e0067762"
   },
   "outputs": [],
   "source": [
    "def all_in_one(model, loss_fn, optimizer, device, train_loader, val_loader, es, scheduler, epochs=10):\n",
    "    train_losses = []\n",
    "    val_losses =[]\n",
    "\n",
    "    for i in range(1, epochs+1):\n",
    "        \n",
    "        error_train = train_step(model, loss_fn, train_loader, optimizer, device)\n",
    "        error_val=step_evaluation(model, loss_fn, val_loader, device)\n",
    "        \n",
    "        train_losses.append(error_train)\n",
    "        val_losses.append(error_val)\n",
    "        \n",
    "        scheduler.step()\n",
    "        \n",
    "        print(f'Epoch {i}', f'Train Loss: {error_train:.4f}', f'Test Loss: {error_val:.4f}',\n",
    "              sep=' | ')        \n",
    "        \n",
    "        # Early Stopping\n",
    "        if es(error_val, model):\n",
    "            break\n",
    "    \n",
    "    return train_losses, val_losses"
   ]
  },
  {
   "cell_type": "code",
   "execution_count": 120,
   "id": "112dab05",
   "metadata": {
    "id": "112dab05"
   },
   "outputs": [],
   "source": [
    "def EarlyStopping_plot(train_losses,test_losses):\n",
    "    fig = plt.figure(figsize=(7,5))\n",
    "    plt.plot(range(1,len(train_losses)+1),train_losses, label='Training Loss')\n",
    "    plt.plot(range(1,len(test_losses)+1), test_losses,label='Test Loss')\n",
    "    plt.title(\"Gráfico Early Stopping\")\n",
    "\n",
    "    minposs = test_losses.index(min(test_losses))+1 \n",
    "    plt.axvline(minposs, linestyle='--', color='r',label='Early Stopping Checkpoint')\n",
    "    plt.xlabel('epochs')\n",
    "    plt.ylabel('loss')\n",
    "    plt.ylim(0, max(train_losses) + 0.5) # consistent scale\n",
    "    plt.xlim(0, len(train_losses)+1) # consistent scale\n",
    "    plt.grid(True)\n",
    "    plt.legend()\n",
    "    plt.tight_layout()\n",
    "    plt.show()"
   ]
  },
  {
   "cell_type": "code",
   "execution_count": 121,
   "id": "08657fc5",
   "metadata": {
    "id": "08657fc5"
   },
   "outputs": [],
   "source": [
    "class EarlyStopping:\n",
    "    def __init__(self, mode, path, patience=3, delta=0):\n",
    "        if mode not in {'min', 'max'}:\n",
    "            raise ValueError(\"Argument mode must be one of 'min' or 'max'.\")\n",
    "        if patience <= 0:\n",
    "            raise ValueError(\"Argument patience must be a postive integer.\")\n",
    "        if delta < 0:\n",
    "            raise ValueError(\"Argument delta must not be a negative number.\")\n",
    "            \n",
    "        self.mode = mode\n",
    "        self.patience = patience\n",
    "        self.delta = delta\n",
    "        self.path = path\n",
    "        self.best_score = np.inf if mode == 'min' else -np.inf\n",
    "        self.counter = 0\n",
    "        \n",
    "    def _is_improvement(self, val_score):\n",
    "        \"\"\"\n",
    "        Return True iff val_score is better than self.best_score.\n",
    "        \"\"\"\n",
    "        if self.mode == 'max' and val_score > self.best_score + self.delta:\n",
    "            return True\n",
    "        elif self.mode == 'min' and val_score < self.best_score - self.delta:\n",
    "            return True\n",
    "        return False\n",
    "        \n",
    "    def __call__(self, val_score, model):\n",
    "        \"\"\"\n",
    "        Return True iff self.counter >= self.patience.\n",
    "        \"\"\"\n",
    "        \n",
    "        if self._is_improvement(val_score):\n",
    "            self.best_score = val_score\n",
    "            self.counter = 0\n",
    "            torch.save(model.state_dict(), self.path)\n",
    "            print('Test loss improved. Saved model.')\n",
    "            return False\n",
    "        else:\n",
    "            self.counter += 1\n",
    "            print(f'Early stopping counter: {self.counter}/{self.patience}')\n",
    "            if self.counter >= self.patience:\n",
    "                print(f'Stopped early. Best val loss: {self.best_score:.4f}')\n",
    "                return True"
   ]
  },
  {
   "cell_type": "code",
   "execution_count": 122,
   "id": "4a5152e4",
   "metadata": {
    "id": "4a5152e4"
   },
   "outputs": [],
   "source": [
    "#@title Definición de device\n",
    "device = 'cuda' if torch.cuda.is_available() else 'cpu'\n",
    "n_cudas = torch.cuda.device_count()\n",
    "for i in range(n_cudas):\n",
    "    print(torch.cuda.get_device_name(i))"
   ]
  },
  {
   "cell_type": "markdown",
   "id": "99e7e498",
   "metadata": {
    "id": "99e7e498"
   },
   "source": [
    "## VIOLENCIA FAMILIAR"
   ]
  },
  {
   "cell_type": "code",
   "execution_count": 93,
   "id": "bb22fa19",
   "metadata": {
    "id": "bb22fa19"
   },
   "outputs": [],
   "source": [
    "X_train_dataloader, X_val_dataloader, X_test_dataloader,scaler = prepare_dataloaders(\"/content/drive/My Drive/Proyecto_CD/Datos/violencia_familiar.csv\")"
   ]
  },
  {
   "cell_type": "code",
   "execution_count": 162,
   "id": "b09d55f1",
   "metadata": {
    "colab": {
     "base_uri": "https://localhost:8080/"
    },
    "id": "b09d55f1",
    "outputId": "16c6e97f-a159-4826-80bd-312bf646e541"
   },
   "outputs": [
    {
     "name": "stdout",
     "output_type": "stream",
     "text": [
      "Esta es una LSTM\n"
     ]
    },
    {
     "name": "stderr",
     "output_type": "stream",
     "text": [
      "/usr/local/lib/python3.7/dist-packages/torch/nn/modules/loss.py:530: UserWarning: Using a target size (torch.Size([1])) that is different to the input size (torch.Size([2, 1])). This will likely lead to incorrect results due to broadcasting. Please ensure they have the same size.\n",
      "  return F.mse_loss(input, target, reduction=self.reduction)\n"
     ]
    },
    {
     "name": "stdout",
     "output_type": "stream",
     "text": [
      "Epoch 1 | Train Loss: 0.0580 | Test Loss: 0.0409\n",
      "Test loss improved. Saved model.\n",
      "Epoch 2 | Train Loss: 0.0742 | Test Loss: 0.0389\n",
      "Test loss improved. Saved model.\n",
      "Epoch 3 | Train Loss: 0.0446 | Test Loss: 0.0297\n",
      "Test loss improved. Saved model.\n",
      "Epoch 4 | Train Loss: 0.0240 | Test Loss: 0.0257\n",
      "Test loss improved. Saved model.\n",
      "Epoch 5 | Train Loss: 0.0189 | Test Loss: 0.0247\n",
      "Test loss improved. Saved model.\n",
      "Epoch 6 | Train Loss: 0.0181 | Test Loss: 0.0243\n",
      "Test loss improved. Saved model.\n",
      "Epoch 7 | Train Loss: 0.0179 | Test Loss: 0.0241\n",
      "Test loss improved. Saved model.\n",
      "Epoch 8 | Train Loss: 0.0178 | Test Loss: 0.0240\n",
      "Test loss improved. Saved model.\n",
      "Epoch 9 | Train Loss: 0.0176 | Test Loss: 0.0239\n",
      "Test loss improved. Saved model.\n",
      "Epoch 10 | Train Loss: 0.0175 | Test Loss: 0.0238\n",
      "Test loss improved. Saved model.\n",
      "Epoch 11 | Train Loss: 0.0175 | Test Loss: 0.0237\n",
      "Test loss improved. Saved model.\n",
      "Epoch 12 | Train Loss: 0.0174 | Test Loss: 0.0236\n",
      "Test loss improved. Saved model.\n",
      "Epoch 13 | Train Loss: 0.0173 | Test Loss: 0.0236\n",
      "Test loss improved. Saved model.\n",
      "Epoch 14 | Train Loss: 0.0173 | Test Loss: 0.0236\n",
      "Test loss improved. Saved model.\n",
      "Epoch 15 | Train Loss: 0.0172 | Test Loss: 0.0235\n",
      "Test loss improved. Saved model.\n",
      "Epoch 16 | Train Loss: 0.0172 | Test Loss: 0.0235\n",
      "Test loss improved. Saved model.\n",
      "Epoch 17 | Train Loss: 0.0172 | Test Loss: 0.0235\n",
      "Test loss improved. Saved model.\n",
      "Epoch 18 | Train Loss: 0.0171 | Test Loss: 0.0235\n",
      "Test loss improved. Saved model.\n",
      "Epoch 19 | Train Loss: 0.0171 | Test Loss: 0.0235\n",
      "Test loss improved. Saved model.\n",
      "Epoch 20 | Train Loss: 0.0171 | Test Loss: 0.0235\n",
      "Test loss improved. Saved model.\n",
      "Epoch 21 | Train Loss: 0.0171 | Test Loss: 0.0235\n",
      "Test loss improved. Saved model.\n",
      "Epoch 22 | Train Loss: 0.0170 | Test Loss: 0.0235\n",
      "Test loss improved. Saved model.\n",
      "Epoch 23 | Train Loss: 0.0170 | Test Loss: 0.0235\n",
      "Test loss improved. Saved model.\n",
      "Epoch 24 | Train Loss: 0.0170 | Test Loss: 0.0235\n",
      "Test loss improved. Saved model.\n",
      "Epoch 25 | Train Loss: 0.0170 | Test Loss: 0.0235\n",
      "Test loss improved. Saved model.\n",
      "Epoch 26 | Train Loss: 0.0170 | Test Loss: 0.0235\n",
      "Test loss improved. Saved model.\n",
      "Epoch 27 | Train Loss: 0.0170 | Test Loss: 0.0235\n",
      "Test loss improved. Saved model.\n",
      "Epoch 28 | Train Loss: 0.0169 | Test Loss: 0.0234\n",
      "Test loss improved. Saved model.\n",
      "Epoch 29 | Train Loss: 0.0169 | Test Loss: 0.0234\n",
      "Test loss improved. Saved model.\n",
      "Epoch 30 | Train Loss: 0.0169 | Test Loss: 0.0234\n",
      "Test loss improved. Saved model.\n",
      "Epoch 31 | Train Loss: 0.0169 | Test Loss: 0.0234\n",
      "Test loss improved. Saved model.\n",
      "Epoch 32 | Train Loss: 0.0169 | Test Loss: 0.0234\n",
      "Test loss improved. Saved model.\n",
      "Epoch 33 | Train Loss: 0.0169 | Test Loss: 0.0234\n",
      "Test loss improved. Saved model.\n",
      "Epoch 34 | Train Loss: 0.0169 | Test Loss: 0.0234\n",
      "Test loss improved. Saved model.\n",
      "Epoch 35 | Train Loss: 0.0169 | Test Loss: 0.0234\n",
      "Test loss improved. Saved model.\n",
      "Epoch 36 | Train Loss: 0.0169 | Test Loss: 0.0234\n",
      "Test loss improved. Saved model.\n",
      "Epoch 37 | Train Loss: 0.0169 | Test Loss: 0.0234\n",
      "Test loss improved. Saved model.\n",
      "Epoch 38 | Train Loss: 0.0169 | Test Loss: 0.0234\n",
      "Test loss improved. Saved model.\n",
      "Epoch 39 | Train Loss: 0.0169 | Test Loss: 0.0234\n",
      "Test loss improved. Saved model.\n",
      "Epoch 40 | Train Loss: 0.0169 | Test Loss: 0.0234\n",
      "Test loss improved. Saved model.\n",
      "Epoch 41 | Train Loss: 0.0169 | Test Loss: 0.0234\n",
      "Test loss improved. Saved model.\n",
      "Epoch 42 | Train Loss: 0.0169 | Test Loss: 0.0234\n",
      "Test loss improved. Saved model.\n",
      "Epoch 43 | Train Loss: 0.0169 | Test Loss: 0.0234\n",
      "Test loss improved. Saved model.\n",
      "Epoch 44 | Train Loss: 0.0169 | Test Loss: 0.0234\n",
      "Test loss improved. Saved model.\n",
      "Epoch 45 | Train Loss: 0.0169 | Test Loss: 0.0234\n",
      "Test loss improved. Saved model.\n",
      "Epoch 46 | Train Loss: 0.0169 | Test Loss: 0.0234\n",
      "Test loss improved. Saved model.\n",
      "Epoch 47 | Train Loss: 0.0169 | Test Loss: 0.0234\n",
      "Test loss improved. Saved model.\n",
      "Epoch 48 | Train Loss: 0.0169 | Test Loss: 0.0234\n",
      "Test loss improved. Saved model.\n",
      "Epoch 49 | Train Loss: 0.0169 | Test Loss: 0.0234\n",
      "Test loss improved. Saved model.\n",
      "Epoch 50 | Train Loss: 0.0169 | Test Loss: 0.0234\n",
      "Test loss improved. Saved model.\n",
      "Epoch 51 | Train Loss: 0.0169 | Test Loss: 0.0234\n",
      "Test loss improved. Saved model.\n",
      "Epoch 52 | Train Loss: 0.0168 | Test Loss: 0.0234\n",
      "Test loss improved. Saved model.\n",
      "Epoch 53 | Train Loss: 0.0168 | Test Loss: 0.0234\n",
      "Test loss improved. Saved model.\n",
      "Epoch 54 | Train Loss: 0.0168 | Test Loss: 0.0234\n",
      "Test loss improved. Saved model.\n",
      "Epoch 55 | Train Loss: 0.0168 | Test Loss: 0.0234\n",
      "Test loss improved. Saved model.\n",
      "Epoch 56 | Train Loss: 0.0168 | Test Loss: 0.0234\n",
      "Test loss improved. Saved model.\n",
      "Epoch 57 | Train Loss: 0.0168 | Test Loss: 0.0234\n",
      "Test loss improved. Saved model.\n",
      "Epoch 58 | Train Loss: 0.0168 | Test Loss: 0.0234\n",
      "Test loss improved. Saved model.\n",
      "Epoch 59 | Train Loss: 0.0168 | Test Loss: 0.0234\n",
      "Test loss improved. Saved model.\n",
      "Epoch 60 | Train Loss: 0.0168 | Test Loss: 0.0234\n",
      "Test loss improved. Saved model.\n",
      "Epoch 61 | Train Loss: 0.0168 | Test Loss: 0.0234\n",
      "Test loss improved. Saved model.\n",
      "Epoch 62 | Train Loss: 0.0168 | Test Loss: 0.0234\n",
      "Test loss improved. Saved model.\n",
      "Epoch 63 | Train Loss: 0.0168 | Test Loss: 0.0234\n",
      "Test loss improved. Saved model.\n",
      "Epoch 64 | Train Loss: 0.0168 | Test Loss: 0.0234\n",
      "Test loss improved. Saved model.\n",
      "Epoch 65 | Train Loss: 0.0168 | Test Loss: 0.0234\n",
      "Test loss improved. Saved model.\n",
      "Epoch 66 | Train Loss: 0.0168 | Test Loss: 0.0234\n",
      "Test loss improved. Saved model.\n",
      "Epoch 67 | Train Loss: 0.0168 | Test Loss: 0.0234\n",
      "Test loss improved. Saved model.\n",
      "Epoch 68 | Train Loss: 0.0168 | Test Loss: 0.0234\n",
      "Test loss improved. Saved model.\n",
      "Epoch 69 | Train Loss: 0.0168 | Test Loss: 0.0234\n",
      "Test loss improved. Saved model.\n",
      "Epoch 70 | Train Loss: 0.0168 | Test Loss: 0.0234\n",
      "Test loss improved. Saved model.\n",
      "Epoch 71 | Train Loss: 0.0168 | Test Loss: 0.0234\n",
      "Test loss improved. Saved model.\n",
      "Epoch 72 | Train Loss: 0.0168 | Test Loss: 0.0234\n",
      "Early stopping counter: 1/10\n",
      "Epoch 73 | Train Loss: 0.0168 | Test Loss: 0.0234\n",
      "Test loss improved. Saved model.\n",
      "Epoch 74 | Train Loss: 0.0168 | Test Loss: 0.0234\n",
      "Test loss improved. Saved model.\n",
      "Epoch 75 | Train Loss: 0.0168 | Test Loss: 0.0234\n",
      "Test loss improved. Saved model.\n",
      "Epoch 76 | Train Loss: 0.0168 | Test Loss: 0.0234\n",
      "Early stopping counter: 1/10\n",
      "Epoch 77 | Train Loss: 0.0168 | Test Loss: 0.0234\n",
      "Early stopping counter: 2/10\n",
      "Epoch 78 | Train Loss: 0.0168 | Test Loss: 0.0234\n",
      "Early stopping counter: 3/10\n",
      "Epoch 79 | Train Loss: 0.0168 | Test Loss: 0.0234\n",
      "Test loss improved. Saved model.\n",
      "Epoch 80 | Train Loss: 0.0168 | Test Loss: 0.0234\n",
      "Test loss improved. Saved model.\n",
      "Epoch 81 | Train Loss: 0.0168 | Test Loss: 0.0234\n",
      "Test loss improved. Saved model.\n",
      "Epoch 82 | Train Loss: 0.0168 | Test Loss: 0.0234\n",
      "Test loss improved. Saved model.\n",
      "Epoch 83 | Train Loss: 0.0168 | Test Loss: 0.0234\n",
      "Test loss improved. Saved model.\n",
      "Epoch 84 | Train Loss: 0.0168 | Test Loss: 0.0234\n",
      "Test loss improved. Saved model.\n",
      "Epoch 85 | Train Loss: 0.0168 | Test Loss: 0.0234\n",
      "Test loss improved. Saved model.\n",
      "Epoch 86 | Train Loss: 0.0168 | Test Loss: 0.0234\n",
      "Test loss improved. Saved model.\n",
      "Epoch 87 | Train Loss: 0.0168 | Test Loss: 0.0234\n",
      "Early stopping counter: 1/10\n",
      "Epoch 88 | Train Loss: 0.0168 | Test Loss: 0.0234\n",
      "Early stopping counter: 2/10\n",
      "Epoch 89 | Train Loss: 0.0168 | Test Loss: 0.0234\n",
      "Early stopping counter: 3/10\n",
      "Epoch 90 | Train Loss: 0.0168 | Test Loss: 0.0234\n",
      "Early stopping counter: 4/10\n",
      "Epoch 91 | Train Loss: 0.0168 | Test Loss: 0.0234\n",
      "Early stopping counter: 5/10\n",
      "Epoch 92 | Train Loss: 0.0168 | Test Loss: 0.0234\n",
      "Early stopping counter: 6/10\n",
      "Epoch 93 | Train Loss: 0.0168 | Test Loss: 0.0234\n",
      "Early stopping counter: 7/10\n",
      "Epoch 94 | Train Loss: 0.0168 | Test Loss: 0.0234\n",
      "Early stopping counter: 8/10\n",
      "Epoch 95 | Train Loss: 0.0168 | Test Loss: 0.0234\n",
      "Early stopping counter: 9/10\n",
      "Epoch 96 | Train Loss: 0.0168 | Test Loss: 0.0234\n",
      "Early stopping counter: 10/10\n",
      "Stopped early. Best val loss: 0.0234\n"
     ]
    }
   ],
   "source": [
    "# Step 0 - Initializes parameters \"b\" and \"w\" randomly\n",
    "torch.manual_seed(69)\n",
    "\n",
    "# Defines number of epochs\n",
    "n_epochs = 100\n",
    "\n",
    "#cnn, optimizer = Starter_Model(tam_filtros = [3,2],num_filtros = [100, 100],salida_capas_FC = [],num_clases = 1,learning_rate=0.25,\n",
    "#                  dropout=0.35,activacion = 'relu', opt = 'Adadelta',rho=0.95)\n",
    "\n",
    "network = \"lstm\"\n",
    "dir_file = '/content/drive/My Drive/Proyecto_CD/'\n",
    "neuronal_net, optimizer = Starter_Model_Recurent(num_clases = 1,learning_rate=0.25,device=device,seq_length=3,\n",
    "                                                 n_pred=1, opt = 'Adadelta',rho=0.95,red=network)\n",
    "\n",
    "# Inicializamos la condición de parada temprana\n",
    "#es = EarlyStopping(mode='min', path='model_cnn_ST.pth', patience=10)\n",
    "es = EarlyStopping(mode='min', path=dir_file+'model_'+str(network)+'_ST.pth', patience=10)\n",
    "\n",
    "# Aplicamos un decaimiento a la tasa de aprendizaje de cada grupo de parámetros por gamma en cada época.\n",
    "scheduler = ExponentialLR(optimizer, gamma=0.9)\n",
    "loss_fn = nn.MSELoss()\n",
    "\n",
    "train_losses, test_losses = all_in_one(neuronal_net, loss_fn, optimizer, device, X_train_dataloader, \n",
    "                                       X_val_dataloader, es, scheduler, n_epochs)"
   ]
  },
  {
   "cell_type": "code",
   "execution_count": 163,
   "id": "56a7e42c",
   "metadata": {
    "colab": {
     "base_uri": "https://localhost:8080/",
     "height": 369
    },
    "id": "56a7e42c",
    "outputId": "00ae08c9-137d-4d58-c5da-4038f571de88"
   },
   "outputs": [
    {
     "data": {
      "image/png": "[encoded data removed]",
      "text/plain": [
       "<Figure size 504x360 with 1 Axes>"
      ]
     },
     "metadata": {
      "needs_background": "light"
     },
     "output_type": "display_data"
    }
   ],
   "source": [
    "EarlyStopping_plot(train_losses,test_losses)"
   ]
  },
  {
   "cell_type": "code",
   "execution_count": 164,
   "id": "e5811048",
   "metadata": {
    "id": "e5811048"
   },
   "outputs": [],
   "source": [
    "y_pred_scaler = MakePredictions(neuronal_net,X_train_dataloader,device)\n",
    "y_pred = scaler.inverse_transform(np.array(y_pred_scaler).reshape(-1,1))\n",
    "y_pred = y_pred.reshape(y_pred.shape[0])\n",
    "fitted_series = pd.Series(y_pred)"
   ]
  },
  {
   "cell_type": "code",
   "execution_count": 165,
   "id": "CVPOMmyMgUzK",
   "metadata": {
    "colab": {
     "base_uri": "https://localhost:8080/",
     "height": 379
    },
    "id": "CVPOMmyMgUzK",
    "outputId": "1762a4ea-f2bd-441d-c643-bf3413720ada"
   },
   "outputs": [
    {
     "data": {
      "text/plain": [
       "<matplotlib.axes._subplots.AxesSubplot at 0x7f72939bbf50>"
      ]
     },
     "execution_count": 165,
     "metadata": {},
     "output_type": "execute_result"
    },
    {
     "data": {
      "image/png": "[encoded data removed]",
      "text/plain": [
       "<Figure size 1200x400 with 1 Axes>"
      ]
     },
     "metadata": {
      "needs_background": "light"
     },
     "output_type": "display_data"
    }
   ],
   "source": [
    "# Forecast\n",
    "plt.figure(figsize=(12,4), dpi=100)\n",
    "fitted_series.plot(color='red')\n",
    "fitted_series_lstm.plot(color='blue')"
   ]
  }
 ],
 "metadata": {
  "colab": {
   "provenance": []
  },
  "kernelspec": {
   "display_name": "Python 3 (ipykernel)",
   "language": "python",
   "name": "python3"
  },
  "language_info": {
   "codemirror_mode": {
    "name": "ipython",
    "version": 3
   },
   "file_extension": ".py",
   "mimetype": "text/x-python",
   "name": "python",
   "nbconvert_exporter": "python",
   "pygments_lexer": "ipython3",
   "version": "3.9.12"
  }
 },
 "nbformat": 4,
 "nbformat_minor": 5
}
