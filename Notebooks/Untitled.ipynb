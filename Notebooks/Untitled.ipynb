{
 "cells": [
  {
   "cell_type": "code",
   "execution_count": 2,
   "id": "1c4e419c",
   "metadata": {},
   "outputs": [],
   "source": [
    "import pandas as pd"
   ]
  },
  {
   "cell_type": "markdown",
   "id": "21305ff6",
   "metadata": {},
   "source": [
    "Se carga sin la variable $\\texttt{tempo}$ ya que contiene muchos NaN's. Notamos también que la variable $\\texttt{competencia}$ nos marca muchos NaN's, sin embargo, en la fuente de dónde se descargó el archivo no presenta NaN's."
   ]
  },
  {
   "cell_type": "code",
   "execution_count": 19,
   "id": "30abc83e",
   "metadata": {},
   "outputs": [],
   "source": [
    "FGJ_carpetas = pd.read_csv(\"../Data/carpetas_completa_junio_2022.csv\", index_col=0, dtype={\"competencia\" : str},\n",
    "                           usecols= lambda x: x != 'tempo')"
   ]
  },
  {
   "cell_type": "code",
   "execution_count": 20,
   "id": "a4c22398",
   "metadata": {},
   "outputs": [
    {
     "name": "stdout",
     "output_type": "stream",
     "text": [
      "Index(['ao_hechos', 'mes_hechos', 'fecha_hechos', 'ao_inicio', 'mes_inicio',\n",
      "       'fecha_inicio', 'delito', 'fiscalia', 'agencia', 'unidad_investigacion',\n",
      "       'categoria_delito', 'colonia_hechos', 'alcaldia_hechos', 'competencia',\n",
      "       'longitud', 'latitud'],\n",
      "      dtype='object')\n"
     ]
    }
   ],
   "source": [
    "print(FGJ_carpetas.columns)"
   ]
  },
  {
   "cell_type": "markdown",
   "id": "4a9dce57",
   "metadata": {},
   "source": [
    "Tendrémos quizás que modificar el tipo de variables que involucren fecha, ya que éstas son reconocidas como objeto."
   ]
  },
  {
   "cell_type": "code",
   "execution_count": 21,
   "id": "ba01004c",
   "metadata": {},
   "outputs": [
    {
     "name": "stdout",
     "output_type": "stream",
     "text": [
      "<class 'pandas.core.frame.DataFrame'>\n",
      "Int64Index: 1484304 entries, 1 to 1484304\n",
      "Data columns (total 16 columns):\n",
      " #   Column                Non-Null Count    Dtype  \n",
      "---  ------                --------------    -----  \n",
      " 0   ao_hechos             1483822 non-null  float64\n",
      " 1   mes_hechos            1483822 non-null  object \n",
      " 2   fecha_hechos          1483822 non-null  object \n",
      " 3   ao_inicio             1484304 non-null  int64  \n",
      " 4   mes_inicio            1484304 non-null  object \n",
      " 5   fecha_inicio          1484301 non-null  object \n",
      " 6   delito                1484304 non-null  object \n",
      " 7   fiscalia              1484302 non-null  object \n",
      " 8   agencia               1484304 non-null  object \n",
      " 9   unidad_investigacion  1484077 non-null  object \n",
      " 10  categoria_delito      1484304 non-null  object \n",
      " 11  colonia_hechos        1419067 non-null  object \n",
      " 12  alcaldia_hechos       1479799 non-null  object \n",
      " 13  competencia           420225 non-null   object \n",
      " 14  longitud              1420014 non-null  float64\n",
      " 15  latitud               1420014 non-null  float64\n",
      "dtypes: float64(3), int64(1), object(12)\n",
      "memory usage: 192.5+ MB\n",
      "None\n"
     ]
    }
   ],
   "source": [
    "print(FGJ_carpetas.info())"
   ]
  },
  {
   "cell_type": "code",
   "execution_count": 22,
   "id": "7aa035b4",
   "metadata": {},
   "outputs": [
    {
     "name": "stdout",
     "output_type": "stream",
     "text": [
      "ao_hechos                   482\n",
      "mes_hechos                  482\n",
      "fecha_hechos                482\n",
      "ao_inicio                     0\n",
      "mes_inicio                    0\n",
      "fecha_inicio                  3\n",
      "delito                        0\n",
      "fiscalia                      2\n",
      "agencia                       0\n",
      "unidad_investigacion        227\n",
      "categoria_delito              0\n",
      "colonia_hechos            65237\n",
      "alcaldia_hechos            4505\n",
      "competencia             1064079\n",
      "longitud                  64290\n",
      "latitud                   64290\n",
      "dtype: int64\n"
     ]
    }
   ],
   "source": [
    "print(FGJ_carpetas.isnull().sum(axis= 0))"
   ]
  },
  {
   "cell_type": "code",
   "execution_count": 23,
   "id": "77f13400",
   "metadata": {},
   "outputs": [
    {
     "name": "stdout",
     "output_type": "stream",
     "text": [
      "   ao_hechos mes_hechos         fecha_hechos  ao_inicio mes_inicio  \\\n",
      "1     2016.0      Enero  2016-01-31 22:16:00       2016    Febrero   \n",
      "2     2016.0      Enero  2016-01-31 20:50:00       2016    Febrero   \n",
      "3     2016.0    Febrero  2016-02-01 00:30:00       2016    Febrero   \n",
      "4     2016.0      Enero  2016-01-31 22:00:00       2016    Febrero   \n",
      "5     2015.0  Diciembre  2015-12-25 12:00:00       2016    Febrero   \n",
      "\n",
      "          fecha_inicio                                             delito  \\\n",
      "1  2016-02-01 00:25:44                DAÑO EN PROPIEDAD AJENA INTENCIONAL   \n",
      "2  2016-02-01 00:52:37  ROBO DE VEHICULO DE SERVICIO PARTICULAR CON VI...   \n",
      "3  2016-02-01 01:33:26                       NARCOMENUDEO POSESION SIMPLE   \n",
      "4  2016-02-01 02:09:11     ROBO A TRANSEUNTE EN VIA PUBLICA CON VIOLENCIA   \n",
      "5  2016-02-01 02:16:49                                 DENUNCIA DE HECHOS   \n",
      "\n",
      "                                            fiscalia    agencia  \\\n",
      "1                     INVESTIGACIÓN EN BENITO JUÁREZ       BJ-2   \n",
      "2  INVESTIGACIÓN PARA LA ATENCIÓN DEL DELITO DE R...  ORIENTEII   \n",
      "3  INVESTIGACIÓN PARA LA ATENCIÓN DE NIÑOS, NIÑAS...         57   \n",
      "4                        INVESTIGACIÓN EN IZTAPALAPA      IZP-6   \n",
      "5                     INVESTIGACIÓN EN BENITO JUÁREZ       BJ-1   \n",
      "\n",
      "  unidad_investigacion                                   categoria_delito  \\\n",
      "1               UI-3CD                             DELITO DE BAJO IMPACTO   \n",
      "2               UI-3CD               ROBO DE VEHÍCULO CON Y SIN VIOLENCIA   \n",
      "3               UI-3CD                             DELITO DE BAJO IMPACTO   \n",
      "4               UI-3CD  ROBO A TRANSEUNTE EN VÍA PÚBLICA CON Y SIN VIO...   \n",
      "5               UI-3SD                                 HECHO NO DELICTIVO   \n",
      "\n",
      "            colonia_hechos alcaldia_hechos competencia   longitud    latitud  \n",
      "1          AMÉRICAS UNIDAS   BENITO JUAREZ         NaN -99.140215  19.380315  \n",
      "2             LOS CIPRESES      IZTAPALAPA         NaN -99.108403  19.352859  \n",
      "3  UNIDAD VICENTE GUERRERO      IZTAPALAPA         NaN -99.061321  19.356451  \n",
      "4          EMILIANO ZAPATA      IZTAPALAPA         NaN -98.976379  19.331633  \n",
      "5         DEL VALLE CENTRO   BENITO JUAREZ         NaN -99.172189  19.387114  \n"
     ]
    }
   ],
   "source": [
    "print(FGJ_carpetas.head(5))"
   ]
  },
  {
   "cell_type": "code",
   "execution_count": null,
   "id": "0f663947",
   "metadata": {},
   "outputs": [],
   "source": []
  }
 ],
 "metadata": {
  "kernelspec": {
   "display_name": "ciencia_de_datos-kernel",
   "language": "python",
   "name": "ciencia_de_datos-kernel"
  },
  "language_info": {
   "codemirror_mode": {
    "name": "ipython",
    "version": 3
   },
   "file_extension": ".py",
   "mimetype": "text/x-python",
   "name": "python",
   "nbconvert_exporter": "python",
   "pygments_lexer": "ipython3",
   "version": "3.10.4"
  }
 },
 "nbformat": 4,
 "nbformat_minor": 5
}
