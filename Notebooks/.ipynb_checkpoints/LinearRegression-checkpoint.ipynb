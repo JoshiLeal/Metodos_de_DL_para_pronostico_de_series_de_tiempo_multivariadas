{
 "cells": [
  {
   "cell_type": "markdown",
   "metadata": {
    "id": "QBQAsxOyppU3"
   },
   "source": [
    "# Regresión Dinamica"
   ]
  },
  {
   "cell_type": "markdown",
   "metadata": {
    "id": "fyNcYz7Qphso"
   },
   "source": [
    "## Importación de librerias a utilizar"
   ]
  },
  {
   "cell_type": "code",
   "execution_count": 1,
   "metadata": {
    "colab": {
     "base_uri": "https://localhost:8080/"
    },
    "executionInfo": {
     "elapsed": 6239,
     "status": "ok",
     "timestamp": 1668408980964,
     "user": {
      "displayName": "Daniel Gómez Torres",
      "userId": "12420692163461184890"
     },
     "user_tz": 360
    },
    "id": "CZeXn4yaTUZZ",
    "outputId": "78d5a0fc-a45c-4769-8141-9b18d9c0f55f"
   },
   "outputs": [
    {
     "name": "stdout",
     "output_type": "stream",
     "text": [
      "Looking in indexes: https://pypi.org/simple, https://us-python.pkg.dev/colab-wheels/public/simple/\n",
      "Collecting meteostat\n",
      "  Downloading meteostat-1.6.5-py3-none-any.whl (31 kB)\n",
      "Requirement already satisfied: pytz in /usr/local/lib/python3.7/dist-packages (from meteostat) (2022.6)\n",
      "Requirement already satisfied: pandas>=1.1 in /usr/local/lib/python3.7/dist-packages (from meteostat) (1.3.5)\n",
      "Requirement already satisfied: numpy in /usr/local/lib/python3.7/dist-packages (from meteostat) (1.21.6)\n",
      "Requirement already satisfied: python-dateutil>=2.7.3 in /usr/local/lib/python3.7/dist-packages (from pandas>=1.1->meteostat) (2.8.2)\n",
      "Requirement already satisfied: six>=1.5 in /usr/local/lib/python3.7/dist-packages (from python-dateutil>=2.7.3->pandas>=1.1->meteostat) (1.15.0)\n",
      "Installing collected packages: meteostat\n",
      "Successfully installed meteostat-1.6.5\n"
     ]
    }
   ],
   "source": [
    "!pip install meteostat"
   ]
  },
  {
   "cell_type": "code",
   "execution_count": 2,
   "metadata": {
    "colab": {
     "base_uri": "https://localhost:8080/"
    },
    "executionInfo": {
     "elapsed": 17006,
     "status": "ok",
     "timestamp": 1668408997960,
     "user": {
      "displayName": "Daniel Gómez Torres",
      "userId": "12420692163461184890"
     },
     "user_tz": 360
    },
    "id": "qsdyGUh5yUHj",
    "outputId": "04241d12-a8c4-445f-a34c-f7c632686212"
   },
   "outputs": [
    {
     "name": "stdout",
     "output_type": "stream",
     "text": [
      "Looking in indexes: https://pypi.org/simple, https://us-python.pkg.dev/colab-wheels/public/simple/\n",
      "Collecting pmdarima\n",
      "  Downloading pmdarima-2.0.1-cp37-cp37m-manylinux_2_17_x86_64.manylinux2014_x86_64.manylinux_2_28_x86_64.whl (1.8 MB)\n",
      "\u001b[K     |████████████████████████████████| 1.8 MB 5.2 MB/s \n",
      "\u001b[?25hRequirement already satisfied: Cython!=0.29.18,!=0.29.31,>=0.29 in /usr/local/lib/python3.7/dist-packages (from pmdarima) (0.29.32)\n",
      "Collecting statsmodels>=0.13.2\n",
      "  Downloading statsmodels-0.13.5-cp37-cp37m-manylinux_2_17_x86_64.manylinux2014_x86_64.whl (9.9 MB)\n",
      "\u001b[K     |████████████████████████████████| 9.9 MB 46.7 MB/s \n",
      "\u001b[?25hRequirement already satisfied: numpy>=1.21 in /usr/local/lib/python3.7/dist-packages (from pmdarima) (1.21.6)\n",
      "Requirement already satisfied: pandas>=0.19 in /usr/local/lib/python3.7/dist-packages (from pmdarima) (1.3.5)\n",
      "Requirement already satisfied: setuptools!=50.0.0,>=38.6.0 in /usr/local/lib/python3.7/dist-packages (from pmdarima) (57.4.0)\n",
      "Requirement already satisfied: scikit-learn>=0.22 in /usr/local/lib/python3.7/dist-packages (from pmdarima) (1.0.2)\n",
      "Requirement already satisfied: joblib>=0.11 in /usr/local/lib/python3.7/dist-packages (from pmdarima) (1.2.0)\n",
      "Requirement already satisfied: scipy>=1.3.2 in /usr/local/lib/python3.7/dist-packages (from pmdarima) (1.7.3)\n",
      "Requirement already satisfied: urllib3 in /usr/local/lib/python3.7/dist-packages (from pmdarima) (1.24.3)\n",
      "Requirement already satisfied: python-dateutil>=2.7.3 in /usr/local/lib/python3.7/dist-packages (from pandas>=0.19->pmdarima) (2.8.2)\n",
      "Requirement already satisfied: pytz>=2017.3 in /usr/local/lib/python3.7/dist-packages (from pandas>=0.19->pmdarima) (2022.6)\n",
      "Requirement already satisfied: six>=1.5 in /usr/local/lib/python3.7/dist-packages (from python-dateutil>=2.7.3->pandas>=0.19->pmdarima) (1.15.0)\n",
      "Requirement already satisfied: threadpoolctl>=2.0.0 in /usr/local/lib/python3.7/dist-packages (from scikit-learn>=0.22->pmdarima) (3.1.0)\n",
      "Requirement already satisfied: patsy>=0.5.2 in /usr/local/lib/python3.7/dist-packages (from statsmodels>=0.13.2->pmdarima) (0.5.3)\n",
      "Requirement already satisfied: packaging>=21.3 in /usr/local/lib/python3.7/dist-packages (from statsmodels>=0.13.2->pmdarima) (21.3)\n",
      "Requirement already satisfied: pyparsing!=3.0.5,>=2.0.2 in /usr/local/lib/python3.7/dist-packages (from packaging>=21.3->statsmodels>=0.13.2->pmdarima) (3.0.9)\n",
      "Installing collected packages: statsmodels, pmdarima\n",
      "  Attempting uninstall: statsmodels\n",
      "    Found existing installation: statsmodels 0.12.2\n",
      "    Uninstalling statsmodels-0.12.2:\n",
      "      Successfully uninstalled statsmodels-0.12.2\n",
      "Successfully installed pmdarima-2.0.1 statsmodels-0.13.5\n"
     ]
    }
   ],
   "source": [
    "!pip install pmdarima"
   ]
  },
  {
   "cell_type": "code",
   "execution_count": null,
   "metadata": {},
   "outputs": [],
   "source": [
    "!pip install holidays"
   ]
  },
  {
   "cell_type": "code",
   "execution_count": 1,
   "metadata": {
    "executionInfo": {
     "elapsed": 2140,
     "status": "ok",
     "timestamp": 1668409000077,
     "user": {
      "displayName": "Daniel Gómez Torres",
      "userId": "12420692163461184890"
     },
     "user_tz": 360
    },
    "id": "51iBKtwgpdOT"
   },
   "outputs": [
    {
     "ename": "ModuleNotFoundError",
     "evalue": "No module named 'holidays'",
     "output_type": "error",
     "traceback": [
      "\u001b[1;31m---------------------------------------------------------------------------\u001b[0m",
      "\u001b[1;31mModuleNotFoundError\u001b[0m                       Traceback (most recent call last)",
      "\u001b[1;32m~\\AppData\\Local\\Temp/ipykernel_21804/3676497590.py\u001b[0m in \u001b[0;36m<module>\u001b[1;34m\u001b[0m\n\u001b[0;32m      4\u001b[0m \u001b[1;32mimport\u001b[0m \u001b[0mpmdarima\u001b[0m \u001b[1;32mas\u001b[0m \u001b[0mpm\u001b[0m\u001b[1;33m\u001b[0m\u001b[1;33m\u001b[0m\u001b[0m\n\u001b[0;32m      5\u001b[0m \u001b[1;32mimport\u001b[0m \u001b[0mmatplotlib\u001b[0m\u001b[1;33m.\u001b[0m\u001b[0mpyplot\u001b[0m \u001b[1;32mas\u001b[0m \u001b[0mplt\u001b[0m\u001b[1;33m\u001b[0m\u001b[1;33m\u001b[0m\u001b[0m\n\u001b[1;32m----> 6\u001b[1;33m \u001b[1;32mimport\u001b[0m \u001b[0mholidays\u001b[0m\u001b[1;33m\u001b[0m\u001b[1;33m\u001b[0m\u001b[0m\n\u001b[0m\u001b[0;32m      7\u001b[0m \u001b[1;32mfrom\u001b[0m \u001b[0mmeteostat\u001b[0m \u001b[1;32mimport\u001b[0m \u001b[0mHourly\u001b[0m\u001b[1;33m,\u001b[0m\u001b[0mPoint\u001b[0m\u001b[1;33m\u001b[0m\u001b[1;33m\u001b[0m\u001b[0m\n\u001b[0;32m      8\u001b[0m \u001b[1;32mimport\u001b[0m \u001b[0mos\u001b[0m\u001b[1;33m\u001b[0m\u001b[1;33m\u001b[0m\u001b[0m\n",
      "\u001b[1;31mModuleNotFoundError\u001b[0m: No module named 'holidays'"
     ]
    }
   ],
   "source": [
    "import pandas as pd\n",
    "import numpy as np\n",
    "from datetime import datetime\n",
    "import pmdarima as pm\n",
    "import matplotlib.pyplot as plt\n",
    "import holidays\n",
    "from meteostat import Hourly,Point\n",
    "import os\n",
    "\n",
    "import plotly.graph_objs as go\n",
    "from plotly.offline import iplot\n",
    "from sklearn.linear_model import LinearRegression\n",
    "from sklearn.metrics import mean_absolute_error, mean_squared_error, r2_score\n",
    "from statsmodels.tsa.stattools import adfuller\n",
    "from statsmodels.graphics.tsaplots import plot_acf, plot_pacf"
   ]
  },
  {
   "cell_type": "markdown",
   "metadata": {
    "id": "KJAIOaDcQTOZ"
   },
   "source": [
    "## Funciones"
   ]
  },
  {
   "cell_type": "code",
   "execution_count": null,
   "metadata": {
    "executionInfo": {
     "elapsed": 151,
     "status": "ok",
     "timestamp": 1668409061648,
     "user": {
      "displayName": "Daniel Gómez Torres",
      "userId": "12420692163461184890"
     },
     "user_tz": 360
    },
    "id": "Q5ifZ6GnQSYn"
   },
   "outputs": [],
   "source": [
    "def plot_dataset(df, title):\n",
    "    data = []\n",
    "    value = go.Scatter(\n",
    "        x=df.index,\n",
    "        y=df.values,\n",
    "        mode=\"lines\",\n",
    "        name=\"values\",\n",
    "        marker=dict(),\n",
    "        text=df.index,\n",
    "        line=dict(color=\"blue\"),\n",
    "    )\n",
    "    data.append(value)\n",
    "\n",
    "    layout = dict(\n",
    "        title=title,\n",
    "        xaxis=dict(title=\"Fecha\", ticklen=15, zeroline=False),\n",
    "        yaxis=dict(title=\"Núm. de delitos\", ticklen=5, zeroline=False),\n",
    "    )\n",
    "\n",
    "    fig = dict(data=data, layout=layout)\n",
    "    iplot(fig)"
   ]
  },
  {
   "cell_type": "code",
   "execution_count": 5,
   "metadata": {
    "executionInfo": {
     "elapsed": 170,
     "status": "ok",
     "timestamp": 1668409063798,
     "user": {
      "displayName": "Daniel Gómez Torres",
      "userId": "12420692163461184890"
     },
     "user_tz": 360
    },
    "id": "tSNVzd65SkBQ"
   },
   "outputs": [],
   "source": [
    "def generate_time_lags(df, n_lags):\n",
    "    df_n = pd.DataFrame(df).copy()\n",
    "    for n in range(1, n_lags + 1):\n",
    "        df_n.loc[:,'lag_'+str(n)] = df.shift(n)\n",
    "    df_n = df_n.iloc[n_lags:]\n",
    "    return df_n"
   ]
  },
  {
   "cell_type": "code",
   "execution_count": 6,
   "metadata": {
    "executionInfo": {
     "elapsed": 124,
     "status": "ok",
     "timestamp": 1668409065923,
     "user": {
      "displayName": "Daniel Gómez Torres",
      "userId": "12420692163461184890"
     },
     "user_tz": 360
    },
    "id": "KOe22HjqUGsG"
   },
   "outputs": [],
   "source": [
    "def onehot_feature(df, col_name):\n",
    "    df_features = (pd.DataFrame(df)\n",
    "                .assign(hour = df.index.hour)\n",
    "                .assign(day_of_week = df.index.dayofweek)\n",
    "              )\n",
    "    dummies = pd.get_dummies(df_features,drop_first=True,columns=['day_of_week','hour'])\n",
    "    #return pd.concat([df.iloc[:,:], dummies], axis=1)\n",
    "    return dummies"
   ]
  },
  {
   "cell_type": "code",
   "execution_count": 7,
   "metadata": {
    "executionInfo": {
     "elapsed": 2,
     "status": "ok",
     "timestamp": 1668409066972,
     "user": {
      "displayName": "Daniel Gómez Torres",
      "userId": "12420692163461184890"
     },
     "user_tz": 360
    },
    "id": "MS9GZkq8KrWn"
   },
   "outputs": [],
   "source": [
    "def is_holiday(date):\n",
    "    date = date.replace(hour = 0)\n",
    "    return 1 if (date in mx_holidays) else 0\n",
    "\n",
    "def add_holiday_col(df, holidays):\n",
    "    return df.assign(is_holiday = df.index.to_series().apply(is_holiday))"
   ]
  },
  {
   "cell_type": "code",
   "execution_count": 8,
   "metadata": {
    "executionInfo": {
     "elapsed": 150,
     "status": "ok",
     "timestamp": 1668409068138,
     "user": {
      "displayName": "Daniel Gómez Torres",
      "userId": "12420692163461184890"
     },
     "user_tz": 360
    },
    "id": "e8xUrHCOUc09"
   },
   "outputs": [],
   "source": [
    "def calculate_metrics(df):\n",
    "    return {'mae' : mean_absolute_error(df.value, df.prediction),\n",
    "            'rmse' : mean_squared_error(df.value, df.prediction) ** 0.5,\n",
    "            'r2' : r2_score(df.value, df.prediction)}"
   ]
  },
  {
   "cell_type": "markdown",
   "metadata": {
    "id": "Y8JB_Idkp9iO"
   },
   "source": [
    "## Lectura de datos"
   ]
  },
  {
   "cell_type": "markdown",
   "metadata": {
    "id": "5Z4f_J2CqARq"
   },
   "source": [
    "Se importan los datos con los delitos homogenizados construidos anteriormente."
   ]
  },
  {
   "cell_type": "code",
   "execution_count": 10,
   "metadata": {
    "colab": {
     "base_uri": "https://localhost:8080/"
    },
    "executionInfo": {
     "elapsed": 107503,
     "status": "ok",
     "timestamp": 1668409181090,
     "user": {
      "displayName": "Daniel Gómez Torres",
      "userId": "12420692163461184890"
     },
     "user_tz": 360
    },
    "id": "mWP1g4yFpzcB",
    "outputId": "3ee001b1-cb7a-4c8d-85e0-41dff36805c0"
   },
   "outputs": [
    {
     "name": "stdout",
     "output_type": "stream",
     "text": [
      "Mounted at /content/drive\n"
     ]
    }
   ],
   "source": [
    "from google.colab import drive\n",
    "drive.mount('/content/drive')\n",
    "path=\"/content/drive/My Drive/Proyecto_CD/\""
   ]
  },
  {
   "cell_type": "code",
   "execution_count": 11,
   "metadata": {
    "executionInfo": {
     "elapsed": 9726,
     "status": "ok",
     "timestamp": 1668409195673,
     "user": {
      "displayName": "Daniel Gómez Torres",
      "userId": "12420692163461184890"
     },
     "user_tz": 360
    },
    "id": "X4LmlNifp8bQ"
   },
   "outputs": [],
   "source": [
    "FGJ_carpetas = pd.read_csv(path+'FGJ_carpetas_homo.csv', parse_dates=[\"fecha_hechos\"]) \n",
    "FGJ_carpetas.index = pd.DatetimeIndex(FGJ_carpetas.fecha_hechos)"
   ]
  },
  {
   "cell_type": "markdown",
   "metadata": {
    "id": "jPHYiOg5Q125"
   },
   "source": [
    "## Selección de delitos de estudio"
   ]
  },
  {
   "cell_type": "code",
   "execution_count": 12,
   "metadata": {
    "executionInfo": {
     "elapsed": 128,
     "status": "ok",
     "timestamp": 1668409197703,
     "user": {
      "displayName": "Daniel Gómez Torres",
      "userId": "12420692163461184890"
     },
     "user_tz": 360
    },
    "id": "JflGYk5NqrKp"
   },
   "outputs": [],
   "source": [
    "top_cat=FGJ_carpetas['categoria_delito_homo'].value_counts().index[1:14]\n",
    "cat = top_cat[top_cat!=\"HECHO NO DELICTIVO\"]"
   ]
  },
  {
   "cell_type": "markdown",
   "metadata": {
    "id": "y5iClTeCQ_by"
   },
   "source": [
    "### Robo de objetos"
   ]
  },
  {
   "cell_type": "markdown",
   "metadata": {
    "id": "fZsr6qvcA1rW"
   },
   "source": [
    "**Extracción de  datos**"
   ]
  },
  {
   "cell_type": "code",
   "execution_count": 13,
   "metadata": {
    "colab": {
     "base_uri": "https://localhost:8080/",
     "height": 374
    },
    "executionInfo": {
     "elapsed": 317,
     "status": "ok",
     "timestamp": 1668409199615,
     "user": {
      "displayName": "Daniel Gómez Torres",
      "userId": "12420692163461184890"
     },
     "user_tz": 360
    },
    "id": "PvwWecIsr1yt",
    "outputId": "5bbc3a9d-9d78-45f6-c39e-bcedf2870a84"
   },
   "outputs": [
    {
     "data": {
      "text/html": [
       "\n",
       "  <div id=\"df-7d701e68-3093-4b58-9ae4-927c28a463a4\">\n",
       "    <div class=\"colab-df-container\">\n",
       "      <div>\n",
       "<style scoped>\n",
       "    .dataframe tbody tr th:only-of-type {\n",
       "        vertical-align: middle;\n",
       "    }\n",
       "\n",
       "    .dataframe tbody tr th {\n",
       "        vertical-align: top;\n",
       "    }\n",
       "\n",
       "    .dataframe thead th {\n",
       "        text-align: right;\n",
       "    }\n",
       "</style>\n",
       "<table border=\"1\" class=\"dataframe\">\n",
       "  <thead>\n",
       "    <tr style=\"text-align: right;\">\n",
       "      <th></th>\n",
       "      <th>fecha_hechos</th>\n",
       "      <th>fecha_hechos.1</th>\n",
       "      <th>fecha_inicio</th>\n",
       "      <th>delito</th>\n",
       "      <th>fiscalia</th>\n",
       "      <th>agencia</th>\n",
       "      <th>unidad_investigacion</th>\n",
       "      <th>categoria_delito</th>\n",
       "      <th>colonia_hechos</th>\n",
       "      <th>alcaldia_hechos</th>\n",
       "      <th>longitud</th>\n",
       "      <th>latitud</th>\n",
       "      <th>delito_homo</th>\n",
       "      <th>categoria_delito_homo</th>\n",
       "    </tr>\n",
       "    <tr>\n",
       "      <th>fecha_hechos</th>\n",
       "      <th></th>\n",
       "      <th></th>\n",
       "      <th></th>\n",
       "      <th></th>\n",
       "      <th></th>\n",
       "      <th></th>\n",
       "      <th></th>\n",
       "      <th></th>\n",
       "      <th></th>\n",
       "      <th></th>\n",
       "      <th></th>\n",
       "      <th></th>\n",
       "      <th></th>\n",
       "      <th></th>\n",
       "    </tr>\n",
       "  </thead>\n",
       "  <tbody>\n",
       "    <tr>\n",
       "      <th>2016-01-01 00:00:00</th>\n",
       "      <td>2016-01-01 00:00:00</td>\n",
       "      <td>2016-01-01 00:00:00</td>\n",
       "      <td>2016-05-09 23:14:05</td>\n",
       "      <td>DESPOJO</td>\n",
       "      <td>INVESTIGACIÓN EN TLALPAN</td>\n",
       "      <td>TLP-3</td>\n",
       "      <td>UI-3CD</td>\n",
       "      <td>DELITO DE BAJO IMPACTO</td>\n",
       "      <td>SANTO TOMAS AJUSCO</td>\n",
       "      <td>TLALPAN</td>\n",
       "      <td>-99.217858</td>\n",
       "      <td>19.212409</td>\n",
       "      <td>ROBO DE OBJETOS</td>\n",
       "      <td>ROBO DE OBJETOS</td>\n",
       "    </tr>\n",
       "    <tr>\n",
       "      <th>2016-01-01 01:45:00</th>\n",
       "      <td>2016-01-01 01:45:00</td>\n",
       "      <td>2016-01-01 01:45:00</td>\n",
       "      <td>2016-01-02 13:04:22</td>\n",
       "      <td>ROBO DE OBJETOS</td>\n",
       "      <td>INVESTIGACIÓN EN COYOACÁN</td>\n",
       "      <td>COY-5</td>\n",
       "      <td>UI-1CD</td>\n",
       "      <td>DELITO DE BAJO IMPACTO</td>\n",
       "      <td>SAN LORENZO ATEMOAYA</td>\n",
       "      <td>XOCHIMILCO</td>\n",
       "      <td>-99.097561</td>\n",
       "      <td>19.238718</td>\n",
       "      <td>ROBO DE OBJETOS</td>\n",
       "      <td>ROBO DE OBJETOS</td>\n",
       "    </tr>\n",
       "    <tr>\n",
       "      <th>2016-01-01 02:30:00</th>\n",
       "      <td>2016-01-01 02:30:00</td>\n",
       "      <td>2016-01-01 02:30:00</td>\n",
       "      <td>2016-01-01 12:45:24</td>\n",
       "      <td>ROBO DE OBJETOS</td>\n",
       "      <td>INVESTIGACIÓN EN CUAUHTEMOC</td>\n",
       "      <td>CUH-5</td>\n",
       "      <td>UI-3SD</td>\n",
       "      <td>DELITO DE BAJO IMPACTO</td>\n",
       "      <td>JUÁREZ</td>\n",
       "      <td>CUAUHTEMOC</td>\n",
       "      <td>-99.165413</td>\n",
       "      <td>19.425833</td>\n",
       "      <td>ROBO DE OBJETOS</td>\n",
       "      <td>ROBO DE OBJETOS</td>\n",
       "    </tr>\n",
       "    <tr>\n",
       "      <th>2016-01-01 07:00:00</th>\n",
       "      <td>2016-01-01 07:00:00</td>\n",
       "      <td>2016-01-01 07:00:00</td>\n",
       "      <td>2016-01-01 10:36:51</td>\n",
       "      <td>ROBO DE OBJETOS</td>\n",
       "      <td>INVESTIGACIÓN EN GUSTAVO A. MADERO</td>\n",
       "      <td>GAM-6</td>\n",
       "      <td>UI-3CD</td>\n",
       "      <td>DELITO DE BAJO IMPACTO</td>\n",
       "      <td>VALLEJO</td>\n",
       "      <td>GUSTAVO A MADERO</td>\n",
       "      <td>-99.140430</td>\n",
       "      <td>19.466797</td>\n",
       "      <td>ROBO DE OBJETOS</td>\n",
       "      <td>ROBO DE OBJETOS</td>\n",
       "    </tr>\n",
       "  </tbody>\n",
       "</table>\n",
       "</div>\n",
       "      <button class=\"colab-df-convert\" onclick=\"convertToInteractive('df-7d701e68-3093-4b58-9ae4-927c28a463a4')\"\n",
       "              title=\"Convert this dataframe to an interactive table.\"\n",
       "              style=\"display:none;\">\n",
       "        \n",
       "  <svg xmlns=\"http://www.w3.org/2000/svg\" height=\"24px\"viewBox=\"0 0 24 24\"\n",
       "       width=\"24px\">\n",
       "    <path d=\"M0 0h24v24H0V0z\" fill=\"none\"/>\n",
       "    <path d=\"M18.56 5.44l.94 2.06.94-2.06 2.06-.94-2.06-.94-.94-2.06-.94 2.06-2.06.94zm-11 1L8.5 8.5l.94-2.06 2.06-.94-2.06-.94L8.5 2.5l-.94 2.06-2.06.94zm10 10l.94 2.06.94-2.06 2.06-.94-2.06-.94-.94-2.06-.94 2.06-2.06.94z\"/><path d=\"M17.41 7.96l-1.37-1.37c-.4-.4-.92-.59-1.43-.59-.52 0-1.04.2-1.43.59L10.3 9.45l-7.72 7.72c-.78.78-.78 2.05 0 2.83L4 21.41c.39.39.9.59 1.41.59.51 0 1.02-.2 1.41-.59l7.78-7.78 2.81-2.81c.8-.78.8-2.07 0-2.86zM5.41 20L4 18.59l7.72-7.72 1.47 1.35L5.41 20z\"/>\n",
       "  </svg>\n",
       "      </button>\n",
       "      \n",
       "  <style>\n",
       "    .colab-df-container {\n",
       "      display:flex;\n",
       "      flex-wrap:wrap;\n",
       "      gap: 12px;\n",
       "    }\n",
       "\n",
       "    .colab-df-convert {\n",
       "      background-color: #E8F0FE;\n",
       "      border: none;\n",
       "      border-radius: 50%;\n",
       "      cursor: pointer;\n",
       "      display: none;\n",
       "      fill: #1967D2;\n",
       "      height: 32px;\n",
       "      padding: 0 0 0 0;\n",
       "      width: 32px;\n",
       "    }\n",
       "\n",
       "    .colab-df-convert:hover {\n",
       "      background-color: #E2EBFA;\n",
       "      box-shadow: 0px 1px 2px rgba(60, 64, 67, 0.3), 0px 1px 3px 1px rgba(60, 64, 67, 0.15);\n",
       "      fill: #174EA6;\n",
       "    }\n",
       "\n",
       "    [theme=dark] .colab-df-convert {\n",
       "      background-color: #3B4455;\n",
       "      fill: #D2E3FC;\n",
       "    }\n",
       "\n",
       "    [theme=dark] .colab-df-convert:hover {\n",
       "      background-color: #434B5C;\n",
       "      box-shadow: 0px 1px 3px 1px rgba(0, 0, 0, 0.15);\n",
       "      filter: drop-shadow(0px 1px 2px rgba(0, 0, 0, 0.3));\n",
       "      fill: #FFFFFF;\n",
       "    }\n",
       "  </style>\n",
       "\n",
       "      <script>\n",
       "        const buttonEl =\n",
       "          document.querySelector('#df-7d701e68-3093-4b58-9ae4-927c28a463a4 button.colab-df-convert');\n",
       "        buttonEl.style.display =\n",
       "          google.colab.kernel.accessAllowed ? 'block' : 'none';\n",
       "\n",
       "        async function convertToInteractive(key) {\n",
       "          const element = document.querySelector('#df-7d701e68-3093-4b58-9ae4-927c28a463a4');\n",
       "          const dataTable =\n",
       "            await google.colab.kernel.invokeFunction('convertToInteractive',\n",
       "                                                     [key], {});\n",
       "          if (!dataTable) return;\n",
       "\n",
       "          const docLinkHtml = 'Like what you see? Visit the ' +\n",
       "            '<a target=\"_blank\" href=https://colab.research.google.com/notebooks/data_table.ipynb>data table notebook</a>'\n",
       "            + ' to learn more about interactive tables.';\n",
       "          element.innerHTML = '';\n",
       "          dataTable['output_type'] = 'display_data';\n",
       "          await google.colab.output.renderOutput(dataTable, element);\n",
       "          const docLink = document.createElement('div');\n",
       "          docLink.innerHTML = docLinkHtml;\n",
       "          element.appendChild(docLink);\n",
       "        }\n",
       "      </script>\n",
       "    </div>\n",
       "  </div>\n",
       "  "
      ],
      "text/plain": [
       "                           fecha_hechos       fecha_hechos.1  \\\n",
       "fecha_hechos                                                   \n",
       "2016-01-01 00:00:00 2016-01-01 00:00:00  2016-01-01 00:00:00   \n",
       "2016-01-01 01:45:00 2016-01-01 01:45:00  2016-01-01 01:45:00   \n",
       "2016-01-01 02:30:00 2016-01-01 02:30:00  2016-01-01 02:30:00   \n",
       "2016-01-01 07:00:00 2016-01-01 07:00:00  2016-01-01 07:00:00   \n",
       "\n",
       "                            fecha_inicio           delito  \\\n",
       "fecha_hechos                                                \n",
       "2016-01-01 00:00:00  2016-05-09 23:14:05          DESPOJO   \n",
       "2016-01-01 01:45:00  2016-01-02 13:04:22  ROBO DE OBJETOS   \n",
       "2016-01-01 02:30:00  2016-01-01 12:45:24  ROBO DE OBJETOS   \n",
       "2016-01-01 07:00:00  2016-01-01 10:36:51  ROBO DE OBJETOS   \n",
       "\n",
       "                                               fiscalia agencia  \\\n",
       "fecha_hechos                                                      \n",
       "2016-01-01 00:00:00            INVESTIGACIÓN EN TLALPAN   TLP-3   \n",
       "2016-01-01 01:45:00           INVESTIGACIÓN EN COYOACÁN   COY-5   \n",
       "2016-01-01 02:30:00         INVESTIGACIÓN EN CUAUHTEMOC   CUH-5   \n",
       "2016-01-01 07:00:00  INVESTIGACIÓN EN GUSTAVO A. MADERO   GAM-6   \n",
       "\n",
       "                    unidad_investigacion        categoria_delito  \\\n",
       "fecha_hechos                                                       \n",
       "2016-01-01 00:00:00               UI-3CD  DELITO DE BAJO IMPACTO   \n",
       "2016-01-01 01:45:00               UI-1CD  DELITO DE BAJO IMPACTO   \n",
       "2016-01-01 02:30:00               UI-3SD  DELITO DE BAJO IMPACTO   \n",
       "2016-01-01 07:00:00               UI-3CD  DELITO DE BAJO IMPACTO   \n",
       "\n",
       "                           colonia_hechos   alcaldia_hechos   longitud  \\\n",
       "fecha_hechos                                                             \n",
       "2016-01-01 00:00:00    SANTO TOMAS AJUSCO           TLALPAN -99.217858   \n",
       "2016-01-01 01:45:00  SAN LORENZO ATEMOAYA        XOCHIMILCO -99.097561   \n",
       "2016-01-01 02:30:00                JUÁREZ        CUAUHTEMOC -99.165413   \n",
       "2016-01-01 07:00:00               VALLEJO  GUSTAVO A MADERO -99.140430   \n",
       "\n",
       "                       latitud      delito_homo categoria_delito_homo  \n",
       "fecha_hechos                                                           \n",
       "2016-01-01 00:00:00  19.212409  ROBO DE OBJETOS       ROBO DE OBJETOS  \n",
       "2016-01-01 01:45:00  19.238718  ROBO DE OBJETOS       ROBO DE OBJETOS  \n",
       "2016-01-01 02:30:00  19.425833  ROBO DE OBJETOS       ROBO DE OBJETOS  \n",
       "2016-01-01 07:00:00  19.466797  ROBO DE OBJETOS       ROBO DE OBJETOS  "
      ]
     },
     "execution_count": 13,
     "metadata": {},
     "output_type": "execute_result"
    }
   ],
   "source": [
    "delito = FGJ_carpetas[FGJ_carpetas[\"categoria_delito_homo\"] == cat[0]]\n",
    "if not delito.index.is_monotonic:\n",
    "    delito = delito.sort_index()\n",
    "delito.head(4)"
   ]
  },
  {
   "cell_type": "code",
   "execution_count": 14,
   "metadata": {
    "colab": {
     "base_uri": "https://localhost:8080/",
     "height": 542,
     "output_embedded_package_id": "1o08bdUNAKpJUk6Y5HvprMOAtCv2_Ietb"
    },
    "executionInfo": {
     "elapsed": 6020,
     "status": "ok",
     "timestamp": 1668409208544,
     "user": {
      "displayName": "Daniel Gómez Torres",
      "userId": "12420692163461184890"
     },
     "user_tz": 360
    },
    "id": "6zJNGRy_hXpf",
    "outputId": "a9c8f18a-1531-4e8f-e1f5-74cc270a7854"
   },
   "outputs": [
    {
     "data": {
      "text/plain": [
       "Output hidden; open in https://colab.research.google.com to view."
      ]
     },
     "metadata": {},
     "output_type": "display_data"
    }
   ],
   "source": [
    "delito_h = delito.resample(\"H\", on = \"fecha_hechos\").size()\n",
    "plot_dataset(delito_h,cat[0])"
   ]
  },
  {
   "cell_type": "markdown",
   "metadata": {
    "id": "QDmBDQ6-UH_l"
   },
   "source": [
    "**Extracción de caracteristicas**\n",
    "\n",
    "Creamos columnas que contengan información de la fecha de los registros como el dia de la semana, la hora o ciertas medidas climaticas de esa hora. Recordemos que al realizar el análisis de los daos, el dia de la semana y la hora  mostraron cierto efecto con el numero de delito registrados."
   ]
  },
  {
   "cell_type": "code",
   "execution_count": null,
   "metadata": {
    "id": "MJEFGfpFwrLo"
   },
   "outputs": [],
   "source": [
    "#Categorias dummies que contienen informacion de la fecha\n",
    "df_features = onehot_feature(delito_h, ['hour','day_of_week'])\n",
    "df_features"
   ]
  },
  {
   "cell_type": "code",
   "execution_count": null,
   "metadata": {
    "id": "Ve5NPAovJ_VY"
   },
   "outputs": [],
   "source": [
    "#Distincion de fechas festivas\n",
    "mx_holidays = holidays.MEX()\n",
    "\n",
    "df_features = add_holiday_col(df_features, mx_holidays)\n",
    "df_features"
   ]
  },
  {
   "cell_type": "code",
   "execution_count": 17,
   "metadata": {
    "executionInfo": {
     "elapsed": 12506,
     "status": "ok",
     "timestamp": 1668409336865,
     "user": {
      "displayName": "Daniel Gómez Torres",
      "userId": "12420692163461184890"
     },
     "user_tz": 360
    },
    "id": "Ss512QwAVl5R"
   },
   "outputs": [],
   "source": [
    "#Medidas de variables climaticas\n",
    "place = Point(19.4284700, -99.1276600)\n",
    "data = Hourly(place, datetime(2016,1,1), datetime(2022,6,30))\n",
    "data = data.fetch()"
   ]
  },
  {
   "cell_type": "code",
   "execution_count": 18,
   "metadata": {
    "colab": {
     "base_uri": "https://localhost:8080/",
     "height": 455
    },
    "executionInfo": {
     "elapsed": 16,
     "status": "ok",
     "timestamp": 1668409336868,
     "user": {
      "displayName": "Daniel Gómez Torres",
      "userId": "12420692163461184890"
     },
     "user_tz": 360
    },
    "id": "YVfqVnN4Rcc7",
    "outputId": "d0b0dbe4-031d-4f40-ba24-0726b1b485e0"
   },
   "outputs": [
    {
     "data": {
      "text/html": [
       "\n",
       "  <div id=\"df-22b62207-2fcb-48f2-9098-b3cf41eb607f\">\n",
       "    <div class=\"colab-df-container\">\n",
       "      <div>\n",
       "<style scoped>\n",
       "    .dataframe tbody tr th:only-of-type {\n",
       "        vertical-align: middle;\n",
       "    }\n",
       "\n",
       "    .dataframe tbody tr th {\n",
       "        vertical-align: top;\n",
       "    }\n",
       "\n",
       "    .dataframe thead th {\n",
       "        text-align: right;\n",
       "    }\n",
       "</style>\n",
       "<table border=\"1\" class=\"dataframe\">\n",
       "  <thead>\n",
       "    <tr style=\"text-align: right;\">\n",
       "      <th></th>\n",
       "      <th>0</th>\n",
       "      <th>lag_1</th>\n",
       "      <th>lag_2</th>\n",
       "      <th>lag_3</th>\n",
       "      <th>lag_4</th>\n",
       "      <th>lag_5</th>\n",
       "      <th>lag_6</th>\n",
       "      <th>lag_7</th>\n",
       "    </tr>\n",
       "    <tr>\n",
       "      <th>fecha_hechos</th>\n",
       "      <th></th>\n",
       "      <th></th>\n",
       "      <th></th>\n",
       "      <th></th>\n",
       "      <th></th>\n",
       "      <th></th>\n",
       "      <th></th>\n",
       "      <th></th>\n",
       "    </tr>\n",
       "  </thead>\n",
       "  <tbody>\n",
       "    <tr>\n",
       "      <th>2016-01-01 07:00:00</th>\n",
       "      <td>1</td>\n",
       "      <td>0.0</td>\n",
       "      <td>0.0</td>\n",
       "      <td>0.0</td>\n",
       "      <td>0.0</td>\n",
       "      <td>1.0</td>\n",
       "      <td>1.0</td>\n",
       "      <td>1.0</td>\n",
       "    </tr>\n",
       "    <tr>\n",
       "      <th>2016-01-01 08:00:00</th>\n",
       "      <td>1</td>\n",
       "      <td>1.0</td>\n",
       "      <td>0.0</td>\n",
       "      <td>0.0</td>\n",
       "      <td>0.0</td>\n",
       "      <td>0.0</td>\n",
       "      <td>1.0</td>\n",
       "      <td>1.0</td>\n",
       "    </tr>\n",
       "    <tr>\n",
       "      <th>2016-01-01 09:00:00</th>\n",
       "      <td>3</td>\n",
       "      <td>1.0</td>\n",
       "      <td>1.0</td>\n",
       "      <td>0.0</td>\n",
       "      <td>0.0</td>\n",
       "      <td>0.0</td>\n",
       "      <td>0.0</td>\n",
       "      <td>1.0</td>\n",
       "    </tr>\n",
       "    <tr>\n",
       "      <th>2016-01-01 10:00:00</th>\n",
       "      <td>4</td>\n",
       "      <td>3.0</td>\n",
       "      <td>1.0</td>\n",
       "      <td>1.0</td>\n",
       "      <td>0.0</td>\n",
       "      <td>0.0</td>\n",
       "      <td>0.0</td>\n",
       "      <td>0.0</td>\n",
       "    </tr>\n",
       "    <tr>\n",
       "      <th>2016-01-01 11:00:00</th>\n",
       "      <td>3</td>\n",
       "      <td>4.0</td>\n",
       "      <td>3.0</td>\n",
       "      <td>1.0</td>\n",
       "      <td>1.0</td>\n",
       "      <td>0.0</td>\n",
       "      <td>0.0</td>\n",
       "      <td>0.0</td>\n",
       "    </tr>\n",
       "    <tr>\n",
       "      <th>...</th>\n",
       "      <td>...</td>\n",
       "      <td>...</td>\n",
       "      <td>...</td>\n",
       "      <td>...</td>\n",
       "      <td>...</td>\n",
       "      <td>...</td>\n",
       "      <td>...</td>\n",
       "      <td>...</td>\n",
       "    </tr>\n",
       "    <tr>\n",
       "      <th>2022-06-30 14:00:00</th>\n",
       "      <td>0</td>\n",
       "      <td>0.0</td>\n",
       "      <td>0.0</td>\n",
       "      <td>2.0</td>\n",
       "      <td>1.0</td>\n",
       "      <td>0.0</td>\n",
       "      <td>4.0</td>\n",
       "      <td>2.0</td>\n",
       "    </tr>\n",
       "    <tr>\n",
       "      <th>2022-06-30 15:00:00</th>\n",
       "      <td>0</td>\n",
       "      <td>0.0</td>\n",
       "      <td>0.0</td>\n",
       "      <td>0.0</td>\n",
       "      <td>2.0</td>\n",
       "      <td>1.0</td>\n",
       "      <td>0.0</td>\n",
       "      <td>4.0</td>\n",
       "    </tr>\n",
       "    <tr>\n",
       "      <th>2022-06-30 16:00:00</th>\n",
       "      <td>0</td>\n",
       "      <td>0.0</td>\n",
       "      <td>0.0</td>\n",
       "      <td>0.0</td>\n",
       "      <td>0.0</td>\n",
       "      <td>2.0</td>\n",
       "      <td>1.0</td>\n",
       "      <td>0.0</td>\n",
       "    </tr>\n",
       "    <tr>\n",
       "      <th>2022-06-30 17:00:00</th>\n",
       "      <td>0</td>\n",
       "      <td>0.0</td>\n",
       "      <td>0.0</td>\n",
       "      <td>0.0</td>\n",
       "      <td>0.0</td>\n",
       "      <td>0.0</td>\n",
       "      <td>2.0</td>\n",
       "      <td>1.0</td>\n",
       "    </tr>\n",
       "    <tr>\n",
       "      <th>2022-06-30 18:00:00</th>\n",
       "      <td>1</td>\n",
       "      <td>0.0</td>\n",
       "      <td>0.0</td>\n",
       "      <td>0.0</td>\n",
       "      <td>0.0</td>\n",
       "      <td>0.0</td>\n",
       "      <td>0.0</td>\n",
       "      <td>2.0</td>\n",
       "    </tr>\n",
       "  </tbody>\n",
       "</table>\n",
       "<p>56940 rows × 8 columns</p>\n",
       "</div>\n",
       "      <button class=\"colab-df-convert\" onclick=\"convertToInteractive('df-22b62207-2fcb-48f2-9098-b3cf41eb607f')\"\n",
       "              title=\"Convert this dataframe to an interactive table.\"\n",
       "              style=\"display:none;\">\n",
       "        \n",
       "  <svg xmlns=\"http://www.w3.org/2000/svg\" height=\"24px\"viewBox=\"0 0 24 24\"\n",
       "       width=\"24px\">\n",
       "    <path d=\"M0 0h24v24H0V0z\" fill=\"none\"/>\n",
       "    <path d=\"M18.56 5.44l.94 2.06.94-2.06 2.06-.94-2.06-.94-.94-2.06-.94 2.06-2.06.94zm-11 1L8.5 8.5l.94-2.06 2.06-.94-2.06-.94L8.5 2.5l-.94 2.06-2.06.94zm10 10l.94 2.06.94-2.06 2.06-.94-2.06-.94-.94-2.06-.94 2.06-2.06.94z\"/><path d=\"M17.41 7.96l-1.37-1.37c-.4-.4-.92-.59-1.43-.59-.52 0-1.04.2-1.43.59L10.3 9.45l-7.72 7.72c-.78.78-.78 2.05 0 2.83L4 21.41c.39.39.9.59 1.41.59.51 0 1.02-.2 1.41-.59l7.78-7.78 2.81-2.81c.8-.78.8-2.07 0-2.86zM5.41 20L4 18.59l7.72-7.72 1.47 1.35L5.41 20z\"/>\n",
       "  </svg>\n",
       "      </button>\n",
       "      \n",
       "  <style>\n",
       "    .colab-df-container {\n",
       "      display:flex;\n",
       "      flex-wrap:wrap;\n",
       "      gap: 12px;\n",
       "    }\n",
       "\n",
       "    .colab-df-convert {\n",
       "      background-color: #E8F0FE;\n",
       "      border: none;\n",
       "      border-radius: 50%;\n",
       "      cursor: pointer;\n",
       "      display: none;\n",
       "      fill: #1967D2;\n",
       "      height: 32px;\n",
       "      padding: 0 0 0 0;\n",
       "      width: 32px;\n",
       "    }\n",
       "\n",
       "    .colab-df-convert:hover {\n",
       "      background-color: #E2EBFA;\n",
       "      box-shadow: 0px 1px 2px rgba(60, 64, 67, 0.3), 0px 1px 3px 1px rgba(60, 64, 67, 0.15);\n",
       "      fill: #174EA6;\n",
       "    }\n",
       "\n",
       "    [theme=dark] .colab-df-convert {\n",
       "      background-color: #3B4455;\n",
       "      fill: #D2E3FC;\n",
       "    }\n",
       "\n",
       "    [theme=dark] .colab-df-convert:hover {\n",
       "      background-color: #434B5C;\n",
       "      box-shadow: 0px 1px 3px 1px rgba(0, 0, 0, 0.15);\n",
       "      filter: drop-shadow(0px 1px 2px rgba(0, 0, 0, 0.3));\n",
       "      fill: #FFFFFF;\n",
       "    }\n",
       "  </style>\n",
       "\n",
       "      <script>\n",
       "        const buttonEl =\n",
       "          document.querySelector('#df-22b62207-2fcb-48f2-9098-b3cf41eb607f button.colab-df-convert');\n",
       "        buttonEl.style.display =\n",
       "          google.colab.kernel.accessAllowed ? 'block' : 'none';\n",
       "\n",
       "        async function convertToInteractive(key) {\n",
       "          const element = document.querySelector('#df-22b62207-2fcb-48f2-9098-b3cf41eb607f');\n",
       "          const dataTable =\n",
       "            await google.colab.kernel.invokeFunction('convertToInteractive',\n",
       "                                                     [key], {});\n",
       "          if (!dataTable) return;\n",
       "\n",
       "          const docLinkHtml = 'Like what you see? Visit the ' +\n",
       "            '<a target=\"_blank\" href=https://colab.research.google.com/notebooks/data_table.ipynb>data table notebook</a>'\n",
       "            + ' to learn more about interactive tables.';\n",
       "          element.innerHTML = '';\n",
       "          dataTable['output_type'] = 'display_data';\n",
       "          await google.colab.output.renderOutput(dataTable, element);\n",
       "          const docLink = document.createElement('div');\n",
       "          docLink.innerHTML = docLinkHtml;\n",
       "          element.appendChild(docLink);\n",
       "        }\n",
       "      </script>\n",
       "    </div>\n",
       "  </div>\n",
       "  "
      ],
      "text/plain": [
       "                     0  lag_1  lag_2  lag_3  lag_4  lag_5  lag_6  lag_7\n",
       "fecha_hechos                                                           \n",
       "2016-01-01 07:00:00  1    0.0    0.0    0.0    0.0    1.0    1.0    1.0\n",
       "2016-01-01 08:00:00  1    1.0    0.0    0.0    0.0    0.0    1.0    1.0\n",
       "2016-01-01 09:00:00  3    1.0    1.0    0.0    0.0    0.0    0.0    1.0\n",
       "2016-01-01 10:00:00  4    3.0    1.0    1.0    0.0    0.0    0.0    0.0\n",
       "2016-01-01 11:00:00  3    4.0    3.0    1.0    1.0    0.0    0.0    0.0\n",
       "...                 ..    ...    ...    ...    ...    ...    ...    ...\n",
       "2022-06-30 14:00:00  0    0.0    0.0    2.0    1.0    0.0    4.0    2.0\n",
       "2022-06-30 15:00:00  0    0.0    0.0    0.0    2.0    1.0    0.0    4.0\n",
       "2022-06-30 16:00:00  0    0.0    0.0    0.0    0.0    2.0    1.0    0.0\n",
       "2022-06-30 17:00:00  0    0.0    0.0    0.0    0.0    0.0    2.0    1.0\n",
       "2022-06-30 18:00:00  1    0.0    0.0    0.0    0.0    0.0    0.0    2.0\n",
       "\n",
       "[56940 rows x 8 columns]"
      ]
     },
     "execution_count": 18,
     "metadata": {},
     "output_type": "execute_result"
    }
   ],
   "source": [
    "#Numero de delitos rezagados\n",
    "lag_ts = generate_time_lags(delito_h, 7)\n",
    "lag_ts"
   ]
  },
  {
   "cell_type": "markdown",
   "metadata": {
    "id": "qPINASf2Y0oF"
   },
   "source": [
    "**Ajuste de modelo lineal**"
   ]
  },
  {
   "cell_type": "code",
   "execution_count": 19,
   "metadata": {
    "executionInfo": {
     "elapsed": 458,
     "status": "ok",
     "timestamp": 1668409605126,
     "user": {
      "displayName": "Daniel Gómez Torres",
      "userId": "12420692163461184890"
     },
     "user_tz": 360
    },
    "id": "3LTx7qUtZCHE"
   },
   "outputs": [],
   "source": [
    "#ts_train_delito=delito_h[delito_h.index<'2022']\n",
    "#ts_test_delito=delito_h[delito_h.index>='2022']\n",
    "#\n",
    "X_train = df_features.iloc[delito_h.index<'2021-05',1:]\n",
    "y_train = df_features.iloc[delito_h.index<'2021-05',0]\n",
    "X_val = df_features.iloc[(delito_h.index>='2021-05')&(delito_h.index<='2022-05'),1:]\n",
    "y_val = df_features.iloc[(delito_h.index>='2021-05')&(delito_h.index<='2022-05'),0]\n",
    "\n",
    "X_test = df_features.iloc[delito_h.index>'2022-05',1:]\n",
    "y_test = df_features.iloc[delito_h.index>'2022-05',0]"
   ]
  },
  {
   "cell_type": "code",
   "execution_count": 20,
   "metadata": {
    "executionInfo": {
     "elapsed": 160,
     "status": "ok",
     "timestamp": 1668409681570,
     "user": {
      "displayName": "Daniel Gómez Torres",
      "userId": "12420692163461184890"
     },
     "user_tz": 360
    },
    "id": "JFI4nlBEQX-z"
   },
   "outputs": [],
   "source": [
    "model = LinearRegression()\n",
    "model.fit(X_train, y_train)\n",
    "prediction = model.predict(X_test)\n",
    "\n",
    "result = pd.DataFrame({'value':y_test})\n",
    "result[\"prediction\"] = prediction\n",
    "result = result.sort_index()"
   ]
  },
  {
   "cell_type": "code",
   "execution_count": null,
   "metadata": {
    "colab": {
     "base_uri": "https://localhost:8080/"
    },
    "executionInfo": {
     "elapsed": 261,
     "status": "ok",
     "timestamp": 1668239202000,
     "user": {
      "displayName": "Daniel Gómez Torres",
      "userId": "12420692163461184890"
     },
     "user_tz": 360
    },
    "id": "6IZIEjoOQZfz",
    "outputId": "b14919bd-0688-48d2-85c3-713fbcf6aa1b"
   },
   "outputs": [
    {
     "name": "stdout",
     "output_type": "stream",
     "text": [
      "{'mae': 1.7513524929518616, 'rmse': 2.2319902880853273, 'r2': 0.31757957194586106}\n"
     ]
    }
   ],
   "source": [
    "baseline_metrics = calculate_metrics(result)\n",
    "print(baseline_metrics)"
   ]
  },
  {
   "cell_type": "markdown",
   "metadata": {
    "id": "97GxJn9RBR5R"
   },
   "source": [
    "**Residuales**"
   ]
  },
  {
   "cell_type": "code",
   "execution_count": 23,
   "metadata": {
    "colab": {
     "base_uri": "https://localhost:8080/",
     "height": 335
    },
    "executionInfo": {
     "elapsed": 1140,
     "status": "ok",
     "timestamp": 1668409796560,
     "user": {
      "displayName": "Daniel Gómez Torres",
      "userId": "12420692163461184890"
     },
     "user_tz": 360
    },
    "id": "yUBkrHHJ97gA",
    "outputId": "c1c25d78-0d1f-4acb-b66c-624ad46c8e42"
   },
   "outputs": [
    {
     "data": {
      "text/plain": [
       "<matplotlib.axes._subplots.AxesSubplot at 0x7f42885e1610>"
      ]
     },
     "execution_count": 23,
     "metadata": {},
     "output_type": "execute_result"
    },
    {
     "data": {
      "image/png": "[encoded data removed]",
      "text/plain": [
       "<Figure size 432x288 with 1 Axes>"
      ]
     },
     "metadata": {
      "needs_background": "light"
     },
     "output_type": "display_data"
    }
   ],
   "source": [
    "residuos = y_test-prediction\n",
    "residuos.plot()"
   ]
  },
  {
   "cell_type": "code",
   "execution_count": 25,
   "metadata": {
    "colab": {
     "base_uri": "https://localhost:8080/"
    },
    "executionInfo": {
     "elapsed": 116,
     "status": "ok",
     "timestamp": 1668410629013,
     "user": {
      "displayName": "Daniel Gómez Torres",
      "userId": "12420692163461184890"
     },
     "user_tz": 360
    },
    "id": "FF4H5LXIwVmB",
    "outputId": "3896ee88-826e-4b87-9472-f4782668f8db"
   },
   "outputs": [
    {
     "name": "stdout",
     "output_type": "stream",
     "text": [
      "1. ADF :  -3.8919877575923834\n",
      "2. P-Value :  0.002094610484395162\n"
     ]
    }
   ],
   "source": [
    "#Prueba de estacionalidad\n",
    "dftest = adfuller(result.value, autolag = 'AIC')\n",
    "print(\"1. ADF : \",dftest[0])\n",
    "print(\"2. P-Value : \", dftest[1])"
   ]
  },
  {
   "cell_type": "code",
   "execution_count": 28,
   "metadata": {
    "colab": {
     "base_uri": "https://localhost:8080/",
     "height": 588
    },
    "executionInfo": {
     "elapsed": 1783,
     "status": "ok",
     "timestamp": 1668410711829,
     "user": {
      "displayName": "Daniel Gómez Torres",
      "userId": "12420692163461184890"
     },
     "user_tz": 360
    },
    "id": "bImuWtUAxSXz",
    "outputId": "76792222-ce73-4ed1-a49f-6434075c5aa6"
   },
   "outputs": [
    {
     "name": "stderr",
     "output_type": "stream",
     "text": [
      "/usr/local/lib/python3.7/dist-packages/statsmodels/graphics/tsaplots.py:353: FutureWarning:\n",
      "\n",
      "The default method 'yw' can produce PACF values outside of the [-1,1] interval. After 0.13, the default will change tounadjusted Yule-Walker ('ywm'). You can use this method now by setting method='ywm'.\n",
      "\n"
     ]
    },
    {
     "data": {
      "image/png": "[encoded data removed]",
      "text/plain": [
       "<Figure size 864x576 with 2 Axes>"
      ]
     },
     "metadata": {
      "needs_background": "light"
     },
     "output_type": "display_data"
    }
   ],
   "source": [
    "fig, (ax1, ax2) = plt.subplots(2,1, figsize=(12,8))\n",
    "plot_acf(residuos, lags=50, zero=False, ax=ax1)\n",
    "plot_pacf(residuos, lags=50, zero=False, ax=ax2)\n",
    "\n",
    "plt.show()"
   ]
  },
  {
   "cell_type": "code",
   "execution_count": 29,
   "metadata": {
    "colab": {
     "base_uri": "https://localhost:8080/"
    },
    "executionInfo": {
     "elapsed": 375977,
     "status": "ok",
     "timestamp": 1668411306532,
     "user": {
      "displayName": "Daniel Gómez Torres",
      "userId": "12420692163461184890"
     },
     "user_tz": 360
    },
    "id": "jjtqiPfPx_yU",
    "outputId": "3e56b75d-835a-442e-e4b4-9d1a19fbf8fd"
   },
   "outputs": [
    {
     "data": {
      "text/plain": [
       "ARIMA(order=(3, 0, 0), scoring_args={}, seasonal_order=(2, 0, 0, 24),\n",
       "      suppress_warnings=True)"
      ]
     },
     "execution_count": 29,
     "metadata": {},
     "output_type": "execute_result"
    }
   ],
   "source": [
    "pm.auto_arima(residuos,seasonal=True, stationary=True,m=24)"
   ]
  },
  {
   "cell_type": "code",
   "execution_count": null,
   "metadata": {
    "id": "PGWf3OEBMKIY"
   },
   "outputs": [],
   "source": [
    "def get_sarima_params(data):\n",
    "  p = d = q = range(0, 2)\n",
    "  pdq = list(itertools.product(p, d, q))\n",
    "  seasonal_pdq = [(x[0], x[1], x[2], 24) for x in list(itertools.product(p, d, q))]\n",
    "  result_table = pd.DataFrame(columns=['pda','seasonal_pda','aic'])\n",
    "\n",
    "  for param in pdq:\n",
    "      for param_seasonal in seasonal_pdq:\n",
    "          try:\n",
    "            mod = sm.tsa.statespace.SARIMAX(data,order=param,seasonal_order=param_seasonal,enforce_stationarity=False,enforce_invertibility=False)\n",
    "            results = mod.fit()\n",
    "            result_table = result_table.append({'pda':param, 'seasonal_pda':param_seasonal, 'aic':results.aic},ignore_index=True)\n",
    "          except:\n",
    "            continue\n",
    "\n",
    "  optimal_params = result_table[result_table['aic']==result_table.aic.min()]\n",
    "  order = optimal_params.pda.values[0]\n",
    "  seasonal_order = optimal_params.seasonal_pda.values[0]\n",
    "  return (order,seasonal_order)\n",
    "  \n",
    "def apply_sarimax(train_data,train_exog, test_data, test_exog , order , seasonal_order):\n",
    "  print('SARIMAX MODEL ORDERS ARE = {} {} '.format(order,seasonal_order))\n",
    "   \n",
    "  mod = sm.tsa.statespace.SARIMAX(train_data,exog=train_exog,order=order,seasonal_order=seasonal_order)\n",
    "  results = mod.fit()\n",
    "  \n",
    "  pred = results.get_prediction(start=train_data.index[0],end=train_data.index[-1],exog=train_exog,dynamic=False)\n",
    "  train_forecast = pred.predicted_mean.round()\n",
    "  train_forecast[train_forecast<0] = 0\n",
    "\n",
    "\n",
    "  pred1 = results.get_prediction(start=test_data.index[0],end=test_data.index[-1],exog=test_exog.iloc[:-1,:],dynamic=False)\n",
    "  test_forecast = pred1.predicted_mean.round()\n",
    "  test_forecast[test_forecast<0] = 0\n",
    "\n",
    "\n",
    "\n",
    "def print_sarima_results(train_data,test_data,train_forecast,test_forecast):\n",
    "  print('Train Mean Absolute Error:     ', mean_absolute_error(train_data , train_forecast))\n",
    "  print('Train Root Mean Squared Error: ',np.sqrt(mean_squared_error(train_data , train_forecast)))\n",
    "  print('Test Mean Absolute Error:      ', mean_absolute_error(test_data, test_forecast))\n",
    "  print('Test Root Mean Squared Error:  ',np.sqrt(mean_squared_error(test_data, test_forecast)))\n",
    "\n",
    "#Applying Sarimax on demand data with exogenance variables on Cluster\n",
    "with warnings.catch_warnings():\n",
    "    warnings.simplefilter(\"ignore\")\n",
    "\n",
    "    train_data = pd.DataFrame(train['demand'])\n",
    "    train_exog = train.loc[:,['hour','day'\t,'dayofweek',\t'temperature',\t'wind_speed']]\n",
    "    test_data = pd.DataFrame(test['demand'])\n",
    "    test_exog = test.loc[:,['hour','day'\t,'dayofweek',\t'temperature',\t'wind_speed']]\n",
    "    \n",
    "    \n",
    "    order,seasonal_order = get_sarima_params(train_data)\n",
    "    train_forecast, test_forecast = apply_sarima(train_data,train_exog,test_data,test_exog,order,seasonal_order)  \n",
    "    \n",
    "    #Ignoring test data between 23-26 Jan 2016\n",
    "    test_cleaned = test_data.drop(indexes) \n",
    "    test_forecast_cleaned = test_forecast.drop(indexes)\n",
    "    \n",
    "    print_sarima_results(train_data,test_cleaned,train_forecast, test_forecast_cleaned)\n",
    "\n",
    "\n",
    "result_df = pd.DataFrame(test)\n",
    "result_df['predicted_value'] = test_forecast\n",
    "\n",
    "# Prediction visualization using plotly\n",
    "from plotly.offline import init_notebook_mode, iplot\n",
    "iplot([{\n",
    "    'x': result_df.index,\n",
    "    'y': result_df[col],\n",
    "    'name': col\n",
    "}  for col in result_df.loc[:,['demand','predicted_value']].columns])"
   ]
  }
 ],
 "metadata": {
  "colab": {
   "authorship_tag": "ABX9TyOiwCx+oAaejp7eEJo/RUek",
   "collapsed_sections": [],
   "provenance": [
    {
     "file_id": "1AjGBM31fkSkC4P1MHtpsOHIzYV18fMZf",
     "timestamp": 1667798383181
    }
   ],
   "toc_visible": true
  },
  "kernelspec": {
   "display_name": "Python 3 (ipykernel)",
   "language": "python",
   "name": "python3"
  },
  "language_info": {
   "codemirror_mode": {
    "name": "ipython",
    "version": 3
   },
   "file_extension": ".py",
   "mimetype": "text/x-python",
   "name": "python",
   "nbconvert_exporter": "python",
   "pygments_lexer": "ipython3",
   "version": "3.9.7"
  }
 },
 "nbformat": 4,
 "nbformat_minor": 1
}
