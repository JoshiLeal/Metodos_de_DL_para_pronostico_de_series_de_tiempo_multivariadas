{
 "cells": [
  {
   "cell_type": "markdown",
   "id": "928dc2b3",
   "metadata": {},
   "source": [
    "# <center> Delitos en CDMX</center>\n",
    "## <center> Homogeneización de datos </center>"
   ]
  },
  {
   "cell_type": "markdown",
   "id": "6d95f001",
   "metadata": {},
   "source": [
    "### Idea\n",
    "\n",
    "Como visualizamos en el EDA, notamos que hay datos desbalanceados, y tenemos subcategorias dentro de la categoria de **Delitos de bajo impacto** que aparentemente son muy similares a otras categorias fuera de esta. También notamos que estas subcategorias tienen más registros que categorias que no son considerados como delitos de bajo impacto. \n",
    "\n",
    "El trabajo que se realizará es analizar estas subcategorias, ver cuales podemos combinar (evitando la pérdida de información) y cuáles podemos destacar que se consideren relevantes. "
   ]
  },
  {
   "cell_type": "markdown",
   "id": "ebfef7d3",
   "metadata": {},
   "source": [
    "Cargamos librerias importantes"
   ]
  },
  {
   "cell_type": "code",
   "execution_count": 1,
   "id": "228f1fd9",
   "metadata": {},
   "outputs": [],
   "source": [
    "import pandas as pd\n",
    "import matplotlib.pyplot as plt\n",
    "import seaborn as sns\n",
    "import numpy as np\n",
    "import unidecode"
   ]
  },
  {
   "cell_type": "code",
   "execution_count": 2,
   "id": "b3435e4d",
   "metadata": {},
   "outputs": [],
   "source": [
    "FGJ_carpetas = pd.read_csv(\"../Data/FGJ_carpetas.csv\", parse_dates=[\"fecha_hechos\", \"fecha_inicio\"])\n",
    "FGJ_carpetas.drop(columns=[\"ao_inicio\", \"mes_inicio\"], inplace=True)\n",
    "FGJ_carpetas.index = pd.DatetimeIndex(FGJ_carpetas.fecha_hechos)\n",
    "FGJ_carpetas[\"delito\"] = FGJ_carpetas[\"delito\"].apply(lambda x : unidecode.unidecode(str(x)))\n",
    "FGJ_carpetas[\"categoria_delito\"] = FGJ_carpetas[\"categoria_delito\"].apply(lambda x : unidecode.unidecode(str(x)))"
   ]
  },
  {
   "cell_type": "code",
   "execution_count": 3,
   "id": "30edfa19",
   "metadata": {},
   "outputs": [
    {
     "data": {
      "text/plain": [
       "DELITO DE BAJO IMPACTO                                     1110775\n",
       "ROBO A TRANSEUNTE EN VIA PUBLICA CON Y SIN VIOLENCIA         80354\n",
       "ROBO DE VEHICULO CON Y SIN VIOLENCIA                         69732\n",
       "HECHO NO DELICTIVO                                           49673\n",
       "ROBO A NEGOCIO CON VIOLENCIA                                 22717\n",
       "ROBO A REPARTIDOR CON Y SIN VIOLENCIA                        14116\n",
       "ROBO A PASAJERO A BORDO DEL METRO CON Y SIN VIOLENCIA        11981\n",
       "HOMICIDIO DOLOSO                                              6872\n",
       "VIOLACION                                                     6696\n",
       "LESIONES DOLOSAS POR DISPARO DE ARMA DE FUEGO                 4765\n",
       "ROBO A PASAJERO A BORDO DE MICROBUS CON Y SIN VIOLENCIA       4738\n",
       "ROBO A CASA HABITACION CON VIOLENCIA                          3480\n",
       "ROBO A CUENTAHABIENTE SALIENDO DEL CAJERO CON VIOLENCIA       2550\n",
       "ROBO A PASAJERO A BORDO DE TAXI CON VIOLENCIA                 1414\n",
       "ROBO A TRANSPORTISTA CON Y SIN VIOLENCIA                       649\n",
       "SECUESTRO                                                      185\n",
       "FEMINICIDIO                                                      1\n",
       "Name: categoria_delito, dtype: int64"
      ]
     },
     "execution_count": 3,
     "metadata": {},
     "output_type": "execute_result"
    }
   ],
   "source": [
    "FGJ_carpetas[\"categoria_delito\"].value_counts()"
   ]
  },
  {
   "cell_type": "code",
   "execution_count": 14,
   "id": "bd46c9cd",
   "metadata": {},
   "outputs": [
    {
     "data": {
      "text/plain": [
       "array(['ROBO A PASAJERO A BORDO DE PESERO COLECTIVO CON VIOLENCIA',\n",
       "       'ROBO A PASAJERO A BORDO DE PESERO COLECTIVO SIN VIOLENCIA'],\n",
       "      dtype=object)"
      ]
     },
     "execution_count": 14,
     "metadata": {},
     "output_type": "execute_result"
    }
   ],
   "source": [
    "FGJ_carpetas[FGJ_carpetas[\"categoria_delito\"] == \"ROBO A PASAJERO A BORDO DE MICROBUS CON Y SIN VIOLENCIA\"][\"delito\"].unique()"
   ]
  },
  {
   "cell_type": "markdown",
   "id": "de8b9966",
   "metadata": {},
   "source": [
    "Subcategorias de los delitos de bajo impacto"
   ]
  },
  {
   "cell_type": "code",
   "execution_count": 3,
   "id": "1d3aced3",
   "metadata": {},
   "outputs": [],
   "source": [
    "subcat = pd.DataFrame(FGJ_carpetas[FGJ_carpetas[\"categoria_delito\"] == \n",
    "                                   \"DELITO DE BAJO IMPACTO\"][\"delito\"].value_counts()).reset_index()"
   ]
  },
  {
   "cell_type": "markdown",
   "id": "46cab3ca",
   "metadata": {},
   "source": [
    "#### Robo a pasajero"
   ]
  },
  {
   "cell_type": "code",
   "execution_count": 4,
   "id": "e9998f83",
   "metadata": {},
   "outputs": [
    {
     "data": {
      "text/plain": [
       "array(['ROBO A PASAJERO / CONDUCTOR DE VEHICULO CON VIOLENCIA',\n",
       "       'ROBO A PASAJERO A BORDO DE TRANSPORTE PUBLICO CON VIOLENCIA',\n",
       "       'ROBO A PASAJERO A BORDO DE METROBUS SIN VIOLENCIA',\n",
       "       'ROBO A PASAJERO A BORDO DE TRANSPORTE PUBLICO SIN VIOLENCIA',\n",
       "       'ROBO A PASAJERO / CONDUCTOR DE TAXI CON VIOLENCIA',\n",
       "       'ROBO A PASAJERO EN TROLEBUS SIN VIOLENCIA',\n",
       "       'ROBO A PASAJERO A BORDO DE TAXI SIN VIOLENCIA',\n",
       "       'ROBO A PASAJERO A BORDO DE METROBUS CON VIOLENCIA',\n",
       "       'ROBO A PASAJERO EN RTP CON VIOLENCIA',\n",
       "       'ROBO A PASAJERO EN TREN LIGERO SIN VIOLENCIA',\n",
       "       'ROBO A PASAJERO EN TROLEBUS CON VIOLENCIA',\n",
       "       'ROBO A PASAJERO EN RTP SIN VIOLENCIA',\n",
       "       'ROBO A PASAJERO EN AUTOBUS FORANEO CON VIOLENCIA',\n",
       "       'ROBO A PASAJERO EN TREN SUBURBANO SIN VIOLENCIA',\n",
       "       'ROBO A PASAJERO EN ECOBUS CON VIOLENCIA',\n",
       "       'ROBO A PASAJERO EN ECOBUS SIN VIOLENCIA',\n",
       "       'ROBO A PASAJERO EN AUTOBUS FORANEO SIN VIOLENCIA',\n",
       "       'ROBO A PASAJERO EN TREN LIGERO CON VIOLENCIA',\n",
       "       'ROBO A PASAJERO A BORDO DE PESERO Y VEHICULO CON VIOLENCIA',\n",
       "       'ROBO A PASAJERO EN TREN SUBURBANO CON VIOLENCIA',\n",
       "       'ROBO A PASAJERO A BORDO DE CABLEBUS SIN VIOLENCIA',\n",
       "       'ROBO A PASAJERO A BORDO DE CABLEBUS CON VIOLENCIA'], dtype=object)"
      ]
     },
     "execution_count": 4,
     "metadata": {},
     "output_type": "execute_result"
    }
   ],
   "source": [
    "subcat[subcat[\"index\"].str.contains(\"ROBO A PASAJERO\")][\"index\"].values"
   ]
  },
  {
   "cell_type": "code",
   "execution_count": 7,
   "id": "ed8c1731",
   "metadata": {},
   "outputs": [],
   "source": [
    "rob_pas = subcat[subcat[\"index\"].str.contains(\"ROBO A PASAJERO\")]"
   ]
  },
  {
   "cell_type": "markdown",
   "id": "1dd6c142",
   "metadata": {},
   "source": [
    "Robo a pasajero con violencia"
   ]
  },
  {
   "cell_type": "code",
   "execution_count": 8,
   "id": "99c034f7",
   "metadata": {},
   "outputs": [
    {
     "data": {
      "text/plain": [
       "array([['ROBO A PASAJERO / CONDUCTOR DE VEHICULO CON VIOLENCIA', 15564],\n",
       "       ['ROBO A PASAJERO A BORDO DE TRANSPORTE PUBLICO CON VIOLENCIA',\n",
       "        6941],\n",
       "       ['ROBO A PASAJERO / CONDUCTOR DE TAXI CON VIOLENCIA', 676],\n",
       "       ['ROBO A PASAJERO A BORDO DE METROBUS CON VIOLENCIA', 258],\n",
       "       ['ROBO A PASAJERO EN RTP CON VIOLENCIA', 226],\n",
       "       ['ROBO A PASAJERO EN TROLEBUS CON VIOLENCIA', 95],\n",
       "       ['ROBO A PASAJERO EN AUTOBUS FORANEO CON VIOLENCIA', 56],\n",
       "       ['ROBO A PASAJERO EN ECOBUS CON VIOLENCIA', 32],\n",
       "       ['ROBO A PASAJERO EN TREN LIGERO CON VIOLENCIA', 15],\n",
       "       ['ROBO A PASAJERO A BORDO DE PESERO Y VEHICULO CON VIOLENCIA', 11],\n",
       "       ['ROBO A PASAJERO EN TREN SUBURBANO CON VIOLENCIA', 5],\n",
       "       ['ROBO A PASAJERO A BORDO DE CABLEBUS CON VIOLENCIA', 1]],\n",
       "      dtype=object)"
      ]
     },
     "execution_count": 8,
     "metadata": {},
     "output_type": "execute_result"
    }
   ],
   "source": [
    "rob_pas[rob_pas[\"index\"].str.contains(\"CON VIOLENCIA\")].values"
   ]
  },
  {
   "cell_type": "markdown",
   "id": "b7d24894",
   "metadata": {},
   "source": [
    "Robo a pasajero sin violencia"
   ]
  },
  {
   "cell_type": "code",
   "execution_count": 9,
   "id": "9a60720a",
   "metadata": {},
   "outputs": [
    {
     "data": {
      "text/html": [
       "<div>\n",
       "<style scoped>\n",
       "    .dataframe tbody tr th:only-of-type {\n",
       "        vertical-align: middle;\n",
       "    }\n",
       "\n",
       "    .dataframe tbody tr th {\n",
       "        vertical-align: top;\n",
       "    }\n",
       "\n",
       "    .dataframe thead th {\n",
       "        text-align: right;\n",
       "    }\n",
       "</style>\n",
       "<table border=\"1\" class=\"dataframe\">\n",
       "  <thead>\n",
       "    <tr style=\"text-align: right;\">\n",
       "      <th></th>\n",
       "      <th>index</th>\n",
       "      <th>delito</th>\n",
       "    </tr>\n",
       "  </thead>\n",
       "  <tbody>\n",
       "    <tr>\n",
       "      <th>45</th>\n",
       "      <td>ROBO A PASAJERO A BORDO DE METROBUS SIN VIOLENCIA</td>\n",
       "      <td>3407</td>\n",
       "    </tr>\n",
       "    <tr>\n",
       "      <th>61</th>\n",
       "      <td>ROBO A PASAJERO A BORDO DE TRANSPORTE PUBLICO ...</td>\n",
       "      <td>2407</td>\n",
       "    </tr>\n",
       "    <tr>\n",
       "      <th>109</th>\n",
       "      <td>ROBO A PASAJERO EN TROLEBUS SIN VIOLENCIA</td>\n",
       "      <td>534</td>\n",
       "    </tr>\n",
       "    <tr>\n",
       "      <th>128</th>\n",
       "      <td>ROBO A PASAJERO A BORDO DE TAXI SIN VIOLENCIA</td>\n",
       "      <td>300</td>\n",
       "    </tr>\n",
       "    <tr>\n",
       "      <th>136</th>\n",
       "      <td>ROBO A PASAJERO EN TREN LIGERO SIN VIOLENCIA</td>\n",
       "      <td>203</td>\n",
       "    </tr>\n",
       "    <tr>\n",
       "      <th>166</th>\n",
       "      <td>ROBO A PASAJERO EN RTP SIN VIOLENCIA</td>\n",
       "      <td>72</td>\n",
       "    </tr>\n",
       "    <tr>\n",
       "      <th>173</th>\n",
       "      <td>ROBO A PASAJERO EN TREN SUBURBANO SIN VIOLENCIA</td>\n",
       "      <td>55</td>\n",
       "    </tr>\n",
       "    <tr>\n",
       "      <th>190</th>\n",
       "      <td>ROBO A PASAJERO EN ECOBUS SIN VIOLENCIA</td>\n",
       "      <td>22</td>\n",
       "    </tr>\n",
       "    <tr>\n",
       "      <th>194</th>\n",
       "      <td>ROBO A PASAJERO EN AUTOBUS FORANEO SIN VIOLENCIA</td>\n",
       "      <td>20</td>\n",
       "    </tr>\n",
       "    <tr>\n",
       "      <th>239</th>\n",
       "      <td>ROBO A PASAJERO A BORDO DE CABLEBUS SIN VIOLENCIA</td>\n",
       "      <td>1</td>\n",
       "    </tr>\n",
       "  </tbody>\n",
       "</table>\n",
       "</div>"
      ],
      "text/plain": [
       "                                                 index  delito\n",
       "45   ROBO A PASAJERO A BORDO DE METROBUS SIN VIOLENCIA    3407\n",
       "61   ROBO A PASAJERO A BORDO DE TRANSPORTE PUBLICO ...    2407\n",
       "109          ROBO A PASAJERO EN TROLEBUS SIN VIOLENCIA     534\n",
       "128      ROBO A PASAJERO A BORDO DE TAXI SIN VIOLENCIA     300\n",
       "136       ROBO A PASAJERO EN TREN LIGERO SIN VIOLENCIA     203\n",
       "166               ROBO A PASAJERO EN RTP SIN VIOLENCIA      72\n",
       "173    ROBO A PASAJERO EN TREN SUBURBANO SIN VIOLENCIA      55\n",
       "190            ROBO A PASAJERO EN ECOBUS SIN VIOLENCIA      22\n",
       "194   ROBO A PASAJERO EN AUTOBUS FORANEO SIN VIOLENCIA      20\n",
       "239  ROBO A PASAJERO A BORDO DE CABLEBUS SIN VIOLENCIA       1"
      ]
     },
     "execution_count": 9,
     "metadata": {},
     "output_type": "execute_result"
    }
   ],
   "source": [
    "rob_pas[rob_pas[\"index\"].str.contains(\"SIN VIOLENCIA\")]"
   ]
  },
  {
   "cell_type": "markdown",
   "id": "9bf71666",
   "metadata": {},
   "source": [
    "#### Delitos de índole sexual"
   ]
  },
  {
   "cell_type": "code",
   "execution_count": 10,
   "id": "69a6452c",
   "metadata": {},
   "outputs": [
    {
     "data": {
      "text/plain": [
       "array([['ABUSO SEXUAL', 16430],\n",
       "       ['ACOSO SEXUAL', 4236],\n",
       "       ['CONTRA LA INTIMIDAD SEXUAL', 2493],\n",
       "       ['ACOSO SEXUAL AGRAVADO EN CONTRA DE MENORES', 115],\n",
       "       ['PRIVACION DE LA LIBERTAD PERSONAL (REALIZAR ACTO SEXUAL)', 34]],\n",
       "      dtype=object)"
      ]
     },
     "execution_count": 10,
     "metadata": {},
     "output_type": "execute_result"
    }
   ],
   "source": [
    "subcat[subcat[\"index\"].str.contains(\"SEXUAL\")].values"
   ]
  },
  {
   "cell_type": "markdown",
   "id": "e014bf66",
   "metadata": {},
   "source": [
    "#### Robo farderos"
   ]
  },
  {
   "cell_type": "code",
   "execution_count": 11,
   "id": "c39809ee",
   "metadata": {},
   "outputs": [
    {
     "data": {
      "text/html": [
       "<div>\n",
       "<style scoped>\n",
       "    .dataframe tbody tr th:only-of-type {\n",
       "        vertical-align: middle;\n",
       "    }\n",
       "\n",
       "    .dataframe tbody tr th {\n",
       "        vertical-align: top;\n",
       "    }\n",
       "\n",
       "    .dataframe thead th {\n",
       "        text-align: right;\n",
       "    }\n",
       "</style>\n",
       "<table border=\"1\" class=\"dataframe\">\n",
       "  <thead>\n",
       "    <tr style=\"text-align: right;\">\n",
       "      <th></th>\n",
       "      <th>index</th>\n",
       "      <th>delito</th>\n",
       "    </tr>\n",
       "  </thead>\n",
       "  <tbody>\n",
       "    <tr>\n",
       "      <th>20</th>\n",
       "      <td>ROBO A NEGOCIO SIN VIOLENCIA POR FARDEROS (TIE...</td>\n",
       "      <td>13445</td>\n",
       "    </tr>\n",
       "    <tr>\n",
       "      <th>67</th>\n",
       "      <td>ROBO A NEGOCIO SIN VIOLENCIA POR FARDEROS</td>\n",
       "      <td>1728</td>\n",
       "    </tr>\n",
       "    <tr>\n",
       "      <th>68</th>\n",
       "      <td>ROBO A NEGOCIO SIN VIOLENCIA POR FARDEROS (TIE...</td>\n",
       "      <td>1674</td>\n",
       "    </tr>\n",
       "  </tbody>\n",
       "</table>\n",
       "</div>"
      ],
      "text/plain": [
       "                                                index  delito\n",
       "20  ROBO A NEGOCIO SIN VIOLENCIA POR FARDEROS (TIE...   13445\n",
       "67          ROBO A NEGOCIO SIN VIOLENCIA POR FARDEROS    1728\n",
       "68  ROBO A NEGOCIO SIN VIOLENCIA POR FARDEROS (TIE...    1674"
      ]
     },
     "execution_count": 11,
     "metadata": {},
     "output_type": "execute_result"
    }
   ],
   "source": [
    "subcat[subcat[\"index\"].str.contains(\"FARDEROS\")]"
   ]
  },
  {
   "cell_type": "markdown",
   "id": "e7b20cb3",
   "metadata": {},
   "source": [
    "#### ROBO A NEGOCIO"
   ]
  },
  {
   "cell_type": "code",
   "execution_count": 12,
   "id": "67644def",
   "metadata": {},
   "outputs": [
    {
     "data": {
      "text/plain": [
       "array([['ROBO A NEGOCIO SIN VIOLENCIA', 69059],\n",
       "       ['ROBO A NEGOCIO SIN VIOLENCIA POR FARDEROS (TIENDAS DE AUTOSERVICIO)',\n",
       "        13445],\n",
       "       ['ROBO A NEGOCIO SIN VIOLENCIA POR FARDEROS', 1728],\n",
       "       ['ROBO A NEGOCIO SIN VIOLENCIA POR FARDEROS (TIENDAS DE CONVENIENCIA)',\n",
       "        1674],\n",
       "       ['ROBO A NEGOCIO Y VEHICULO SIN VIOLENCIA', 107]], dtype=object)"
      ]
     },
     "execution_count": 12,
     "metadata": {},
     "output_type": "execute_result"
    }
   ],
   "source": [
    "subcat[subcat[\"index\"].str.contains(\"ROBO A NEGOCIO\")].values"
   ]
  },
  {
   "cell_type": "markdown",
   "id": "743176e5",
   "metadata": {},
   "source": [
    "#### Robo a transeunte"
   ]
  },
  {
   "cell_type": "code",
   "execution_count": 13,
   "id": "44b55ac0",
   "metadata": {
    "scrolled": true
   },
   "outputs": [
    {
     "data": {
      "text/plain": [
       "array(['ROBO A TRANSEUNTE DE CELULAR CON VIOLENCIA',\n",
       "       'ROBO A TRANSEUNTE DE CELULAR SIN VIOLENCIA',\n",
       "       'ROBO A TRANSEUNTE EN PARQUES Y MERCADOS CON VIOLENCIA',\n",
       "       'ROBO A TRANSEUNTE EN NEGOCIO CON VIOLENCIA',\n",
       "       'ROBO A TRANSEUNTE CONDUCTOR DE TAXI PUBLICO Y PRIVADO CON VIOLENCIA',\n",
       "       'ROBO A TRANSEUNTE A BORDO DE TAXI PUBLICO Y PRIVADO SIN VIOLENCIA',\n",
       "       'ROBO A TRANSEUNTE EN RESTAURANT CON VIOLENCIA',\n",
       "       'ROBO A TRANSEUNTE EN HOTEL CON VIOLENCIA',\n",
       "       'ROBO A TRANSEUNTE EN TERMINAL DE PASAJEROS CON VIOLENCIA',\n",
       "       'ROBO A TRANSEUNTE Y VEHICULO CON VIOLENCIA',\n",
       "       'ROBO A TRANSEUNTE EN CINE CON VIOLENCIA'], dtype=object)"
      ]
     },
     "execution_count": 13,
     "metadata": {},
     "output_type": "execute_result"
    }
   ],
   "source": [
    "subcat[subcat[\"index\"].str.contains(\"TRANSEUNTE\")][\"index\"].values"
   ]
  },
  {
   "cell_type": "markdown",
   "id": "5730c000",
   "metadata": {},
   "source": [
    "#### Robo a casa"
   ]
  },
  {
   "cell_type": "code",
   "execution_count": 14,
   "id": "1547de84",
   "metadata": {},
   "outputs": [
    {
     "data": {
      "text/plain": [
       "array([['ROBO A CASA HABITACION SIN VIOLENCIA', 32645],\n",
       "       ['DANO EN PROPIEDAD AJENA INTENCIONAL A CASA HABITACION', 3133],\n",
       "       ['ROBO A CASA HABITACION Y VEHICULO SIN VIOLENCIA', 322]],\n",
       "      dtype=object)"
      ]
     },
     "execution_count": 14,
     "metadata": {},
     "output_type": "execute_result"
    }
   ],
   "source": [
    "subcat[subcat[\"index\"].str.contains(\"CASA\")].values"
   ]
  },
  {
   "cell_type": "markdown",
   "id": "1f6d0f7d",
   "metadata": {},
   "source": [
    "## Pasos por definir"
   ]
  },
  {
   "cell_type": "markdown",
   "id": "751bd3de",
   "metadata": {},
   "source": [
    "Para el caso relacionado a pasajeros o temas relacionados al transporte público. \n",
    "- Podemos solo diferenciar por hechos con y sin violencia (al final solo tendríamos dos categorias)\n",
    "- Trabajar con series multivariadas para predecir los delitos relacionados al transporte público. El problema que se me ocurre aquí es, ¿la indexación por tiempo nos permitirá trabajar con series recurrentes o convolucionales? \n",
    "\n",
    "Para el resto de subcategorias, como lo son Negocio, transeutes, casa, se siguen las mismas ideas.\n",
    "\n",
    "Otra cosa podría ser solo sacar de las subcategroias de delitos de bajo impacto las problemáticas antes mencionadas. Esto reduciría las subcategorias y reducirá el impacto del desbalance de datos.\n",
    "\n",
    "Definir dos categorias maestras (Alto impacto y bajo impacto). Para las de bajo impacto quizás aplicar todas las ideas anteriores (conjuntar categorias relacionadas a robos de pasajeros, casa, delitos sexuales), separar si fue con o sin violencia. Una vez hecho esto, predecir delitos de bajo impacto. (Tendrías que definir una categoría como \"otros delitos\" o \"delitos varios\")."
   ]
  },
  {
   "cell_type": "markdown",
   "id": "4418a3f7",
   "metadata": {},
   "source": [
    "## Discución\n",
    "\n",
    "Se acordó manejar 4 tipos de variables relacionadas con delitos relacionados a transporte público:\n",
    "- Robo en taxi con y sin violencia\n",
    "- Robo en metro con y sin violencia\n",
    "- Robo en Microbus con y sin violencia\n",
    "- Robo en \"Otros\" tipos de transporte con y sin violencia\n",
    "\n",
    "Para delitos sexuales manejaremos:\n",
    "- Violaciones \n",
    "- Otors delitos de índole sexual (abuso, acoso sexual, etc.)\n",
    "- La categoría feminicidio será eliminada debido a que solo hay un registro\n",
    "\n",
    "Para delitos relacionados con robo a negocio los definiremos en 2 categorias:\n",
    "- Robo con violencia\n",
    "- Robo sin violencia\n",
    "\n",
    "Para delitos relacionados con robo a casa haremos un esquema similar al anterior.\n",
    "\n",
    "Finalmente, para delitos relacionados a robos a transeuntes los juntaremos con los robos a transeuntes en vía pública con y sin violencia.\n",
    "\n",
    "Los principales 4 delitos con mayor registros dentro de los delitos de bajo impacto se analizarán por separado debido a su alto número de ocurrencias (los consideramos de interés)."
   ]
  },
  {
   "cell_type": "code",
   "execution_count": 3,
   "id": "2fa029e9",
   "metadata": {},
   "outputs": [],
   "source": [
    "dic_homo = {\"ROBO A PASAJERO A BORDO DE TAXI CON Y SIN VIOLENCIA\" : [\"ROBO A PASAJERO A BORDO DE TAXI CON VIOLENCIA\", \n",
    "                                                               \"ROBO A PASAJERO / CONDUCTOR DE TAXI CON VIOLENCIA\", \n",
    "                                                               \"ROBO A PASAJERO A BORDO DE TAXI SIN VIOLENCIA\"], \n",
    "            \n",
    "            \"ROBO A PASAJERO A BORDO DE OTROS TRANSPORTE CON Y SIN VIOLENCIA\" : \n",
    "                                                            ['ROBO A PASAJERO / CONDUCTOR DE VEHICULO CON VIOLENCIA',\n",
    "                                                           'ROBO A PASAJERO A BORDO DE TRANSPORTE PUBLICO CON VIOLENCIA',\n",
    "                                                           'ROBO A PASAJERO A BORDO DE METROBUS SIN VIOLENCIA',\n",
    "                                                           'ROBO A PASAJERO A BORDO DE TRANSPORTE PUBLICO SIN VIOLENCIA',\n",
    "                                                           'ROBO A PASAJERO EN TROLEBUS SIN VIOLENCIA',\n",
    "                                                           'ROBO A PASAJERO A BORDO DE METROBUS CON VIOLENCIA',\n",
    "                                                           'ROBO A PASAJERO EN RTP CON VIOLENCIA',\n",
    "                                                           'ROBO A PASAJERO EN TREN LIGERO SIN VIOLENCIA',\n",
    "                                                           'ROBO A PASAJERO EN TROLEBUS CON VIOLENCIA',\n",
    "                                                           'ROBO A PASAJERO EN RTP SIN VIOLENCIA',\n",
    "                                                           'ROBO A PASAJERO EN AUTOBUS FORANEO CON VIOLENCIA',\n",
    "                                                           'ROBO A PASAJERO EN TREN SUBURBANO SIN VIOLENCIA',\n",
    "                                                           'ROBO A PASAJERO EN ECOBUS CON VIOLENCIA',\n",
    "                                                           'ROBO A PASAJERO EN ECOBUS SIN VIOLENCIA',\n",
    "                                                           'ROBO A PASAJERO EN AUTOBUS FORANEO SIN VIOLENCIA',\n",
    "                                                           'ROBO A PASAJERO EN TREN LIGERO CON VIOLENCIA',\n",
    "                                                           'ROBO A PASAJERO A BORDO DE PESERO Y VEHICULO CON VIOLENCIA',\n",
    "                                                           'ROBO A PASAJERO EN TREN SUBURBANO CON VIOLENCIA',\n",
    "                                                           'ROBO A PASAJERO A BORDO DE CABLEBUS SIN VIOLENCIA',\n",
    "                                                           'ROBO A PASAJERO A BORDO DE CABLEBUS CON VIOLENCIA'], \n",
    "            \n",
    "            \"OTROS DELITOS DE INDOLE SEXUAL\" : ['ABUSO SEXUAL', \n",
    "                                                   'ACOSO SEXUAL', \n",
    "                                                   'CONTRA LA INTIMIDAD SEXUAL', \n",
    "                                                   'ACOSO SEXUAL AGRAVADO EN CONTRA DE MENORES', \n",
    "                                                   'PRIVACION DE LA LIBERTAD PERSONAL (REALIZAR ACTO SEXUAL)'],\n",
    "               \"ROBO A NEGOCIO SIN VIOLENCIA\" : ['ROBO A NEGOCIO SIN VIOLENCIA', \n",
    "                                                 'ROBO A NEGOCIO SIN VIOLENCIA POR FARDEROS (TIENDAS DE AUTOSERVICIO)', \n",
    "                                                 'ROBO A NEGOCIO SIN VIOLENCIA POR FARDEROS', \n",
    "                                                 'ROBO A NEGOCIO SIN VIOLENCIA POR FARDEROS (TIENDAS DE CONVENIENCIA)', \n",
    "                                                 'ROBO A NEGOCIO Y VEHICULO SIN VIOLENCIA'],\n",
    "               \"ROBO A CASA SIN VIOLENCIA\" : ['ROBO A CASA HABITACION SIN VIOLENCIA', \n",
    "                                              'DANO EN PROPIEDAD AJENA INTENCIONAL A CASA HABITACION', \n",
    "                                              'ROBO A CASA HABITACION Y VEHICULO SIN VIOLENCIA'], \n",
    "               \"ROBO A TRANSEUNTE CON Y SIN VIOLENCIA\" : ['ROBO A TRANSEUNTE DE CELULAR CON VIOLENCIA',\n",
    "                                                          'ROBO A TRANSEUNTE DE CELULAR SIN VIOLENCIA',\n",
    "                                                          'ROBO A TRANSEUNTE EN PARQUES Y MERCADOS CON VIOLENCIA',\n",
    "                                                          'ROBO A TRANSEUNTE EN NEGOCIO CON VIOLENCIA',\n",
    "                                                  'ROBO A TRANSEUNTE CONDUCTOR DE TAXI PUBLICO Y PRIVADO CON VIOLENCIA',\n",
    "                                                  'ROBO A TRANSEUNTE A BORDO DE TAXI PUBLICO Y PRIVADO SIN VIOLENCIA',\n",
    "                                                          'ROBO A TRANSEUNTE EN RESTAURANT CON VIOLENCIA',\n",
    "                                                          'ROBO A TRANSEUNTE EN HOTEL CON VIOLENCIA',\n",
    "                                                          'ROBO A TRANSEUNTE EN TERMINAL DE PASAJEROS CON VIOLENCIA',\n",
    "                                                          'ROBO A TRANSEUNTE Y VEHICULO CON VIOLENCIA',\n",
    "                                                          'ROBO A TRANSEUNTE EN CINE CON VIOLENCIA'],\n",
    "           \"ROBO DE OBJETOS\" : [\"ROBO DE OBJETOS\",\n",
    "                                \"ROBO DE OBJETOS DEL INTERIOR DE UN VEHICULO\", \n",
    "                                \"ROBO DE ACCESORIOS DE AUTO\", \n",
    "                                \"DESPOJO\"]}"
   ]
  },
  {
   "cell_type": "markdown",
   "id": "5d8b4135",
   "metadata": {},
   "source": [
    "Con fines de buenas prácticas, crearemos una nueva variable para homogeneizar las categorias originales."
   ]
  },
  {
   "cell_type": "code",
   "execution_count": 4,
   "id": "d4dc0c62",
   "metadata": {},
   "outputs": [],
   "source": [
    "FGJ_carpetas[\"categoria_delito_homo\"] = FGJ_carpetas[\"categoria_delito\"]"
   ]
  },
  {
   "cell_type": "code",
   "execution_count": 5,
   "id": "51929dc7",
   "metadata": {},
   "outputs": [
    {
     "data": {
      "text/plain": [
       "(1390698, 15)"
      ]
     },
     "execution_count": 5,
     "metadata": {},
     "output_type": "execute_result"
    }
   ],
   "source": [
    "FGJ_carpetas.shape"
   ]
  },
  {
   "cell_type": "markdown",
   "id": "c411f4f2",
   "metadata": {},
   "source": [
    "Iniciamos homogeneizando los delitos creando una nueva variable de delitos, pero homogeneizados."
   ]
  },
  {
   "cell_type": "code",
   "execution_count": 6,
   "id": "1465d8a8",
   "metadata": {},
   "outputs": [],
   "source": [
    "FGJ_carpetas[\"delito_homo\"] = FGJ_carpetas[\"delito\"].replace({v: new_del for new_del, v in dic_homo.items() for \n",
    "                                                              delito in FGJ_carpetas.delito.astype(\"category\") for v in v})"
   ]
  },
  {
   "cell_type": "markdown",
   "id": "fd5858f2",
   "metadata": {},
   "source": [
    "Conjuntamos los delitos que ya venian incluidos en la variable `ROBO A PASAJERO A BORDO DE TAXI CON VIOLENCIA` para unirlos en la nueva categoria `ROBO A PASAJERO A BORDO DE TAXI CON Y SIN VIOLENCIA`.\n",
    "\n",
    "De forma similar hacemos esto mismo con la categoria `ROBO A TRANSEUNTE EN VIA PUBLICA CON Y SIN VIOLENCIA` para unirla con la nueva categoria `ROBO A TRANSEUNTE CON Y SIN VIOLENCIA`.\n",
    "\n",
    "Finalmente, sacamos de los delitos de bajo impacto los delitos `VIOLENCIA FAMILIAR`,`FRAUDE` y `AMENAZAS`"
   ]
  },
  {
   "cell_type": "code",
   "execution_count": 7,
   "id": "1a7ef8da",
   "metadata": {},
   "outputs": [],
   "source": [
    "for key in dic_homo.keys():\n",
    "    FGJ_carpetas.loc[FGJ_carpetas[\"delito_homo\"]==key, \"categoria_delito_homo\"] = key\n",
    "    \n",
    "FGJ_carpetas.loc[FGJ_carpetas[\"categoria_delito_homo\"] == \"ROBO A PASAJERO A BORDO DE TAXI CON VIOLENCIA\", \n",
    "                 \"categoria_delito_homo\"] = \"ROBO A PASAJERO A BORDO DE TAXI CON Y SIN VIOLENCIA\"\n",
    "\n",
    "FGJ_carpetas.loc[FGJ_carpetas[\"categoria_delito_homo\"] == \"ROBO A TRANSEUNTE CON Y SIN VIOLENCIA\",\n",
    "                 \"categoria_delito_homo\"] = \"ROBO A TRANSEUNTE EN VIA PUBLICA CON Y SIN VIOLENCIA\"\n",
    "\n",
    "for cat in [\"VIOLENCIA FAMILIAR\",\"FRAUDE\",\"AMENAZAS\"]:\n",
    "    FGJ_carpetas.loc[FGJ_carpetas[\"delito_homo\"] == cat, \"categoria_delito_homo\"] = cat "
   ]
  },
  {
   "cell_type": "markdown",
   "id": "200d3c0e",
   "metadata": {},
   "source": [
    "Mostramos finalmente como quedan las nuevas variables correspondientes a las categorias de delitos."
   ]
  },
  {
   "cell_type": "code",
   "execution_count": 8,
   "id": "e5380ef6",
   "metadata": {},
   "outputs": [
    {
     "data": {
      "text/plain": [
       "DELITO DE BAJO IMPACTO                                             374896\n",
       "ROBO DE OBJETOS                                                    195601\n",
       "VIOLENCIA FAMILIAR                                                 159645\n",
       "ROBO A TRANSEUNTE EN VIA PUBLICA CON Y SIN VIOLENCIA               114950\n",
       "FRAUDE                                                              86405\n",
       "ROBO A NEGOCIO SIN VIOLENCIA                                        86013\n",
       "AMENAZAS                                                            83310\n",
       "ROBO DE VEHICULO CON Y SIN VIOLENCIA                                69732\n",
       "HECHO NO DELICTIVO                                                  49673\n",
       "ROBO A CASA SIN VIOLENCIA                                           36100\n",
       "ROBO A PASAJERO A BORDO DE OTROS TRANSPORTE CON Y SIN VIOLENCIA     29925\n",
       "OTROS DELITOS DE INDOLE SEXUAL                                      23308\n",
       "ROBO A NEGOCIO CON VIOLENCIA                                        22717\n",
       "ROBO A REPARTIDOR CON Y SIN VIOLENCIA                               14116\n",
       "ROBO A PASAJERO A BORDO DEL METRO CON Y SIN VIOLENCIA               11981\n",
       "HOMICIDIO DOLOSO                                                     6872\n",
       "VIOLACION                                                            6696\n",
       "LESIONES DOLOSAS POR DISPARO DE ARMA DE FUEGO                        4765\n",
       "ROBO A PASAJERO A BORDO DE MICROBUS CON Y SIN VIOLENCIA              4738\n",
       "ROBO A CASA HABITACION CON VIOLENCIA                                 3480\n",
       "ROBO A CUENTAHABIENTE SALIENDO DEL CAJERO CON VIOLENCIA              2550\n",
       "ROBO A PASAJERO A BORDO DE TAXI CON Y SIN VIOLENCIA                  2390\n",
       "ROBO A TRANSPORTISTA CON Y SIN VIOLENCIA                              649\n",
       "SECUESTRO                                                             185\n",
       "FEMINICIDIO                                                             1\n",
       "Name: categoria_delito_homo, dtype: int64"
      ]
     },
     "execution_count": 8,
     "metadata": {},
     "output_type": "execute_result"
    }
   ],
   "source": [
    "FGJ_carpetas[\"categoria_delito_homo\"].value_counts()"
   ]
  },
  {
   "cell_type": "code",
   "execution_count": 9,
   "id": "d59304d5",
   "metadata": {
    "scrolled": true
   },
   "outputs": [
    {
     "data": {
      "text/plain": [
       "(25,)"
      ]
     },
     "execution_count": 9,
     "metadata": {},
     "output_type": "execute_result"
    }
   ],
   "source": [
    "FGJ_carpetas[\"categoria_delito_homo\"].value_counts().shape"
   ]
  },
  {
   "cell_type": "markdown",
   "id": "b94cd7f4",
   "metadata": {},
   "source": [
    "Guardamos esta base en un nuevo archivo `.csv` para no repetir de nuevo las ejecuciones anteriores de código cada que necesitemos abrir este archivo `.ipynb` y para continuar con el siguiente paso de forma más sencilla."
   ]
  },
  {
   "cell_type": "code",
   "execution_count": 10,
   "id": "5726bc4d",
   "metadata": {},
   "outputs": [
    {
     "data": {
      "text/plain": [
       "(1390698, 16)"
      ]
     },
     "execution_count": 10,
     "metadata": {},
     "output_type": "execute_result"
    }
   ],
   "source": [
    "FGJ_carpetas.shape"
   ]
  },
  {
   "cell_type": "code",
   "execution_count": 11,
   "id": "5be4fda4",
   "metadata": {},
   "outputs": [],
   "source": [
    "FGJ_carpetas.to_csv(\"FGJ_carpetas_homo.csv\")"
   ]
  },
  {
   "cell_type": "markdown",
   "id": "89f50032",
   "metadata": {},
   "source": [
    "El siguiente paso es aplicar técnicas clásicas de Series de Tiempo para tratar de predecir los distintos tipos de delitos presentados."
   ]
  }
 ],
 "metadata": {
  "kernelspec": {
   "display_name": "ciencia_de_datos-kernel",
   "language": "python",
   "name": "ciencia_de_datos-kernel"
  },
  "language_info": {
   "codemirror_mode": {
    "name": "ipython",
    "version": 3
   },
   "file_extension": ".py",
   "mimetype": "text/x-python",
   "name": "python",
   "nbconvert_exporter": "python",
   "pygments_lexer": "ipython3",
   "version": "3.10.4"
  }
 },
 "nbformat": 4,
 "nbformat_minor": 5
}
