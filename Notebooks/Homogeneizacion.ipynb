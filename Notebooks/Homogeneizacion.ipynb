{
 "cells": [
  {
   "cell_type": "markdown",
   "id": "928dc2b3",
   "metadata": {},
   "source": [
    "# <center> Delitos en CDMX</center>\n",
    "## <center> Homogeneización de datos </center>"
   ]
  },
  {
   "cell_type": "markdown",
   "id": "6d95f001",
   "metadata": {},
   "source": [
    "### Idea\n",
    "\n",
    "Como visualizamos en el EDA, notamos que hay datos desbalanceados, y tenemos subcategorias dentro de la categoria de **Delitos de bajo impacto** que aparentemente son muy similares a otras categorias fuera de esta. También notamos que estas subcategorias tienen más registros que categorias que no son considerados como delitos de bajo impacto. \n",
    "\n",
    "El trabajo que se realizará es analizar estas subcategorias, ver cuales podemos combinar (evitando la pérdida de información) y cuáles podemos destacar que se consideren relevantes. "
   ]
  },
  {
   "cell_type": "markdown",
   "id": "ebfef7d3",
   "metadata": {},
   "source": [
    "Cargamos librerias importantes"
   ]
  },
  {
   "cell_type": "code",
   "execution_count": 124,
   "id": "228f1fd9",
   "metadata": {},
   "outputs": [],
   "source": [
    "import pandas as pd\n",
    "import matplotlib.pyplot as plt\n",
    "import seaborn as sns\n",
    "import numpy as np\n",
    "import unidecode"
   ]
  },
  {
   "cell_type": "code",
   "execution_count": 130,
   "id": "b3435e4d",
   "metadata": {},
   "outputs": [],
   "source": [
    "FGJ_carpetas = pd.read_csv(\"../Data/FGJ_carpetas.csv\", parse_dates=[\"fecha_hechos\", \"fecha_inicio\"])\n",
    "FGJ_carpetas.drop(columns=[\"ao_inicio\", \"mes_inicio\"], inplace=True)\n",
    "FGJ_carpetas.index = pd.DatetimeIndex(FGJ_carpetas.fecha_hechos)"
   ]
  },
  {
   "cell_type": "code",
   "execution_count": 132,
   "id": "1c6d4f76",
   "metadata": {},
   "outputs": [],
   "source": [
    "FGJ_carpetas[\"delito\"] = FGJ_carpetas[\"delito\"].apply(lambda x : unidecode.unidecode(str(x)))"
   ]
  },
  {
   "cell_type": "code",
   "execution_count": 3,
   "id": "30edfa19",
   "metadata": {},
   "outputs": [
    {
     "data": {
      "text/plain": [
       "DELITO DE BAJO IMPACTO                                     1110775\n",
       "ROBO A TRANSEUNTE EN VÍA PÚBLICA CON Y SIN VIOLENCIA         80354\n",
       "ROBO DE VEHÍCULO CON Y SIN VIOLENCIA                         69732\n",
       "HECHO NO DELICTIVO                                           49673\n",
       "ROBO A NEGOCIO CON VIOLENCIA                                 22717\n",
       "ROBO A REPARTIDOR CON Y SIN VIOLENCIA                        14116\n",
       "ROBO A PASAJERO A BORDO DEL METRO CON Y SIN VIOLENCIA        11981\n",
       "HOMICIDIO DOLOSO                                              6872\n",
       "VIOLACIÓN                                                     6696\n",
       "LESIONES DOLOSAS POR DISPARO DE ARMA DE FUEGO                 4765\n",
       "ROBO A PASAJERO A BORDO DE MICROBUS CON Y SIN VIOLENCIA       4738\n",
       "ROBO A CASA HABITACIÓN CON VIOLENCIA                          3480\n",
       "ROBO A CUENTAHABIENTE SALIENDO DEL CAJERO CON VIOLENCIA       2550\n",
       "ROBO A PASAJERO A BORDO DE TAXI CON VIOLENCIA                 1414\n",
       "ROBO A TRANSPORTISTA CON Y SIN VIOLENCIA                       649\n",
       "SECUESTRO                                                      185\n",
       "FEMINICIDIO                                                      1\n",
       "Name: categoria_delito, dtype: int64"
      ]
     },
     "execution_count": 3,
     "metadata": {},
     "output_type": "execute_result"
    }
   ],
   "source": [
    "FGJ_carpetas[\"categoria_delito\"].value_counts()"
   ]
  },
  {
   "cell_type": "code",
   "execution_count": 133,
   "id": "bd46c9cd",
   "metadata": {},
   "outputs": [
    {
     "data": {
      "text/plain": [
       "VIOLENCIA FAMILIAR                                   159645\n",
       "FRAUDE                                                86405\n",
       "ROBO DE OBJETOS                                       84110\n",
       "AMENAZAS                                              83310\n",
       "ROBO A NEGOCIO SIN VIOLENCIA                          69059\n",
       "                                                      ...  \n",
       "CALUMNIAS                                                 1\n",
       "CONTRA LA LEY GENERAL DE EXPLOSIVOS                       1\n",
       "INCESTO                                                   1\n",
       "CONTAGIO VENERERO                                         1\n",
       "ROBO A PASAJERO A BORDO DE CABLEBUS CON VIOLENCIA         1\n",
       "Name: delito, Length: 250, dtype: int64"
      ]
     },
     "execution_count": 133,
     "metadata": {},
     "output_type": "execute_result"
    }
   ],
   "source": [
    "FGJ_carpetas[FGJ_carpetas[\"categoria_delito\"] == \"DELITO DE BAJO IMPACTO\"][\"delito\"].value_counts()"
   ]
  },
  {
   "cell_type": "code",
   "execution_count": 128,
   "id": "1d3aced3",
   "metadata": {},
   "outputs": [],
   "source": [
    "subcat = pd.DataFrame(FGJ_carpetas[FGJ_carpetas[\"categoria_delito\"] == \n",
    "                                   \"DELITO DE BAJO IMPACTO\"][\"delito\"].value_counts()).reset_index()"
   ]
  },
  {
   "cell_type": "markdown",
   "id": "46cab3ca",
   "metadata": {},
   "source": [
    "#### Robo a pasajero"
   ]
  },
  {
   "cell_type": "code",
   "execution_count": 109,
   "id": "ed8c1731",
   "metadata": {},
   "outputs": [],
   "source": [
    "rob_pas = subcat[subcat[\"index\"].str.contains(\"ROBO A PASAJERO\")]"
   ]
  },
  {
   "cell_type": "markdown",
   "id": "1dd6c142",
   "metadata": {},
   "source": [
    "Robo a pasajero con violencia"
   ]
  },
  {
   "cell_type": "code",
   "execution_count": 113,
   "id": "99c034f7",
   "metadata": {},
   "outputs": [
    {
     "data": {
      "text/html": [
       "<div>\n",
       "<style scoped>\n",
       "    .dataframe tbody tr th:only-of-type {\n",
       "        vertical-align: middle;\n",
       "    }\n",
       "\n",
       "    .dataframe tbody tr th {\n",
       "        vertical-align: top;\n",
       "    }\n",
       "\n",
       "    .dataframe thead th {\n",
       "        text-align: right;\n",
       "    }\n",
       "</style>\n",
       "<table border=\"1\" class=\"dataframe\">\n",
       "  <thead>\n",
       "    <tr style=\"text-align: right;\">\n",
       "      <th></th>\n",
       "      <th>index</th>\n",
       "      <th>delito</th>\n",
       "    </tr>\n",
       "  </thead>\n",
       "  <tbody>\n",
       "    <tr>\n",
       "      <th>16</th>\n",
       "      <td>ROBO A PASAJERO / CONDUCTOR DE VEHICULO CON VI...</td>\n",
       "      <td>15564</td>\n",
       "    </tr>\n",
       "    <tr>\n",
       "      <th>28</th>\n",
       "      <td>ROBO A PASAJERO A BORDO DE TRANSPORTE PÚBLICO ...</td>\n",
       "      <td>6941</td>\n",
       "    </tr>\n",
       "    <tr>\n",
       "      <th>103</th>\n",
       "      <td>ROBO A PASAJERO / CONDUCTOR DE TAXI CON VIOLENCIA</td>\n",
       "      <td>676</td>\n",
       "    </tr>\n",
       "    <tr>\n",
       "      <th>131</th>\n",
       "      <td>ROBO A PASAJERO A BORDO DE METROBUS CON VIOLENCIA</td>\n",
       "      <td>258</td>\n",
       "    </tr>\n",
       "    <tr>\n",
       "      <th>135</th>\n",
       "      <td>ROBO A PASAJERO EN RTP CON VIOLENCIA</td>\n",
       "      <td>226</td>\n",
       "    </tr>\n",
       "    <tr>\n",
       "      <th>160</th>\n",
       "      <td>ROBO A PASAJERO EN TROLEBUS CON VIOLENCIA</td>\n",
       "      <td>95</td>\n",
       "    </tr>\n",
       "    <tr>\n",
       "      <th>173</th>\n",
       "      <td>ROBO A PASAJERO EN AUTOBÚS FORÁNEO CON VIOLENCIA</td>\n",
       "      <td>56</td>\n",
       "    </tr>\n",
       "    <tr>\n",
       "      <th>187</th>\n",
       "      <td>ROBO A PASAJERO EN ECOBUS CON VIOLENCIA</td>\n",
       "      <td>32</td>\n",
       "    </tr>\n",
       "    <tr>\n",
       "      <th>205</th>\n",
       "      <td>ROBO A PASAJERO EN TREN LIGERO CON VIOLENCIA</td>\n",
       "      <td>15</td>\n",
       "    </tr>\n",
       "    <tr>\n",
       "      <th>213</th>\n",
       "      <td>ROBO A PASAJERO A BORDO DE PESERO Y VEHICULO C...</td>\n",
       "      <td>11</td>\n",
       "    </tr>\n",
       "    <tr>\n",
       "      <th>226</th>\n",
       "      <td>ROBO A PASAJERO EN TREN SUBURBANO CON VIOLENCIA</td>\n",
       "      <td>5</td>\n",
       "    </tr>\n",
       "    <tr>\n",
       "      <th>250</th>\n",
       "      <td>ROBO A PASAJERO A BORDO DE CABLEBUS CON VIOLENCIA</td>\n",
       "      <td>1</td>\n",
       "    </tr>\n",
       "  </tbody>\n",
       "</table>\n",
       "</div>"
      ],
      "text/plain": [
       "                                                 index  delito\n",
       "16   ROBO A PASAJERO / CONDUCTOR DE VEHICULO CON VI...   15564\n",
       "28   ROBO A PASAJERO A BORDO DE TRANSPORTE PÚBLICO ...    6941\n",
       "103  ROBO A PASAJERO / CONDUCTOR DE TAXI CON VIOLENCIA     676\n",
       "131  ROBO A PASAJERO A BORDO DE METROBUS CON VIOLENCIA     258\n",
       "135               ROBO A PASAJERO EN RTP CON VIOLENCIA     226\n",
       "160          ROBO A PASAJERO EN TROLEBUS CON VIOLENCIA      95\n",
       "173   ROBO A PASAJERO EN AUTOBÚS FORÁNEO CON VIOLENCIA      56\n",
       "187            ROBO A PASAJERO EN ECOBUS CON VIOLENCIA      32\n",
       "205       ROBO A PASAJERO EN TREN LIGERO CON VIOLENCIA      15\n",
       "213  ROBO A PASAJERO A BORDO DE PESERO Y VEHICULO C...      11\n",
       "226    ROBO A PASAJERO EN TREN SUBURBANO CON VIOLENCIA       5\n",
       "250  ROBO A PASAJERO A BORDO DE CABLEBUS CON VIOLENCIA       1"
      ]
     },
     "execution_count": 113,
     "metadata": {},
     "output_type": "execute_result"
    }
   ],
   "source": [
    "rob_pas[rob_pas[\"index\"].str.contains(\"CON VIOLENCIA\")]"
   ]
  },
  {
   "cell_type": "markdown",
   "id": "b7d24894",
   "metadata": {},
   "source": [
    "Robo a pasajero sin violencia"
   ]
  },
  {
   "cell_type": "code",
   "execution_count": 114,
   "id": "9a60720a",
   "metadata": {},
   "outputs": [
    {
     "data": {
      "text/html": [
       "<div>\n",
       "<style scoped>\n",
       "    .dataframe tbody tr th:only-of-type {\n",
       "        vertical-align: middle;\n",
       "    }\n",
       "\n",
       "    .dataframe tbody tr th {\n",
       "        vertical-align: top;\n",
       "    }\n",
       "\n",
       "    .dataframe thead th {\n",
       "        text-align: right;\n",
       "    }\n",
       "</style>\n",
       "<table border=\"1\" class=\"dataframe\">\n",
       "  <thead>\n",
       "    <tr style=\"text-align: right;\">\n",
       "      <th></th>\n",
       "      <th>index</th>\n",
       "      <th>delito</th>\n",
       "    </tr>\n",
       "  </thead>\n",
       "  <tbody>\n",
       "    <tr>\n",
       "      <th>44</th>\n",
       "      <td>ROBO A PASAJERO A BORDO DE METROBUS SIN VIOLENCIA</td>\n",
       "      <td>3407</td>\n",
       "    </tr>\n",
       "    <tr>\n",
       "      <th>61</th>\n",
       "      <td>ROBO A PASAJERO A BORDO DE TRANSPORTE PÚBLICO ...</td>\n",
       "      <td>2407</td>\n",
       "    </tr>\n",
       "    <tr>\n",
       "      <th>110</th>\n",
       "      <td>ROBO A PASAJERO EN TROLEBUS SIN VIOLENCIA</td>\n",
       "      <td>534</td>\n",
       "    </tr>\n",
       "    <tr>\n",
       "      <th>129</th>\n",
       "      <td>ROBO A PASAJERO A BORDO DE TAXI SIN VIOLENCIA</td>\n",
       "      <td>300</td>\n",
       "    </tr>\n",
       "    <tr>\n",
       "      <th>137</th>\n",
       "      <td>ROBO A PASAJERO EN TREN LIGERO SIN VIOLENCIA</td>\n",
       "      <td>203</td>\n",
       "    </tr>\n",
       "    <tr>\n",
       "      <th>167</th>\n",
       "      <td>ROBO A PASAJERO EN RTP SIN VIOLENCIA</td>\n",
       "      <td>72</td>\n",
       "    </tr>\n",
       "    <tr>\n",
       "      <th>174</th>\n",
       "      <td>ROBO A PASAJERO EN TREN SUBURBANO SIN VIOLENCIA</td>\n",
       "      <td>55</td>\n",
       "    </tr>\n",
       "    <tr>\n",
       "      <th>191</th>\n",
       "      <td>ROBO A PASAJERO EN ECOBUS SIN VIOLENCIA</td>\n",
       "      <td>22</td>\n",
       "    </tr>\n",
       "    <tr>\n",
       "      <th>194</th>\n",
       "      <td>ROBO A PASAJERO EN AUTOBUS FORANEO SIN VIOLENCIA</td>\n",
       "      <td>20</td>\n",
       "    </tr>\n",
       "    <tr>\n",
       "      <th>239</th>\n",
       "      <td>ROBO A PASAJERO A BORDO DE CABLEBUS SIN VIOLENCIA</td>\n",
       "      <td>1</td>\n",
       "    </tr>\n",
       "  </tbody>\n",
       "</table>\n",
       "</div>"
      ],
      "text/plain": [
       "                                                 index  delito\n",
       "44   ROBO A PASAJERO A BORDO DE METROBUS SIN VIOLENCIA    3407\n",
       "61   ROBO A PASAJERO A BORDO DE TRANSPORTE PÚBLICO ...    2407\n",
       "110          ROBO A PASAJERO EN TROLEBUS SIN VIOLENCIA     534\n",
       "129      ROBO A PASAJERO A BORDO DE TAXI SIN VIOLENCIA     300\n",
       "137       ROBO A PASAJERO EN TREN LIGERO SIN VIOLENCIA     203\n",
       "167               ROBO A PASAJERO EN RTP SIN VIOLENCIA      72\n",
       "174    ROBO A PASAJERO EN TREN SUBURBANO SIN VIOLENCIA      55\n",
       "191            ROBO A PASAJERO EN ECOBUS SIN VIOLENCIA      22\n",
       "194   ROBO A PASAJERO EN AUTOBUS FORANEO SIN VIOLENCIA      20\n",
       "239  ROBO A PASAJERO A BORDO DE CABLEBUS SIN VIOLENCIA       1"
      ]
     },
     "execution_count": 114,
     "metadata": {},
     "output_type": "execute_result"
    }
   ],
   "source": [
    "rob_pas[rob_pas[\"index\"].str.contains(\"SIN VIOLENCIA\")]"
   ]
  },
  {
   "cell_type": "markdown",
   "id": "9bf71666",
   "metadata": {},
   "source": [
    "#### Delitos de índole sexual"
   ]
  },
  {
   "cell_type": "code",
   "execution_count": 118,
   "id": "69a6452c",
   "metadata": {},
   "outputs": [
    {
     "data": {
      "text/html": [
       "<div>\n",
       "<style scoped>\n",
       "    .dataframe tbody tr th:only-of-type {\n",
       "        vertical-align: middle;\n",
       "    }\n",
       "\n",
       "    .dataframe tbody tr th {\n",
       "        vertical-align: top;\n",
       "    }\n",
       "\n",
       "    .dataframe thead th {\n",
       "        text-align: right;\n",
       "    }\n",
       "</style>\n",
       "<table border=\"1\" class=\"dataframe\">\n",
       "  <thead>\n",
       "    <tr style=\"text-align: right;\">\n",
       "      <th></th>\n",
       "      <th>index</th>\n",
       "      <th>delito</th>\n",
       "    </tr>\n",
       "  </thead>\n",
       "  <tbody>\n",
       "    <tr>\n",
       "      <th>14</th>\n",
       "      <td>ABUSO SEXUAL</td>\n",
       "      <td>16430</td>\n",
       "    </tr>\n",
       "    <tr>\n",
       "      <th>36</th>\n",
       "      <td>ACOSO SEXUAL</td>\n",
       "      <td>4236</td>\n",
       "    </tr>\n",
       "    <tr>\n",
       "      <th>59</th>\n",
       "      <td>CONTRA LA INTIMIDAD SEXUAL</td>\n",
       "      <td>2493</td>\n",
       "    </tr>\n",
       "    <tr>\n",
       "      <th>156</th>\n",
       "      <td>ACOSO SEXUAL AGRAVADO EN CONTRA DE MENORES</td>\n",
       "      <td>115</td>\n",
       "    </tr>\n",
       "    <tr>\n",
       "      <th>184</th>\n",
       "      <td>PRIVACION DE LA LIBERTAD PERSONAL (REALIZAR AC...</td>\n",
       "      <td>34</td>\n",
       "    </tr>\n",
       "  </tbody>\n",
       "</table>\n",
       "</div>"
      ],
      "text/plain": [
       "                                                 index  delito\n",
       "14                                        ABUSO SEXUAL   16430\n",
       "36                                        ACOSO SEXUAL    4236\n",
       "59                          CONTRA LA INTIMIDAD SEXUAL    2493\n",
       "156         ACOSO SEXUAL AGRAVADO EN CONTRA DE MENORES     115\n",
       "184  PRIVACION DE LA LIBERTAD PERSONAL (REALIZAR AC...      34"
      ]
     },
     "execution_count": 118,
     "metadata": {},
     "output_type": "execute_result"
    }
   ],
   "source": [
    "subcat[subcat[\"index\"].str.contains(\"SEXUAL\")]"
   ]
  },
  {
   "cell_type": "markdown",
   "id": "e014bf66",
   "metadata": {},
   "source": [
    "#### Robo farderos"
   ]
  },
  {
   "cell_type": "code",
   "execution_count": 153,
   "id": "c39809ee",
   "metadata": {},
   "outputs": [
    {
     "data": {
      "text/html": [
       "<div>\n",
       "<style scoped>\n",
       "    .dataframe tbody tr th:only-of-type {\n",
       "        vertical-align: middle;\n",
       "    }\n",
       "\n",
       "    .dataframe tbody tr th {\n",
       "        vertical-align: top;\n",
       "    }\n",
       "\n",
       "    .dataframe thead th {\n",
       "        text-align: right;\n",
       "    }\n",
       "</style>\n",
       "<table border=\"1\" class=\"dataframe\">\n",
       "  <thead>\n",
       "    <tr style=\"text-align: right;\">\n",
       "      <th></th>\n",
       "      <th>index</th>\n",
       "      <th>delito</th>\n",
       "    </tr>\n",
       "  </thead>\n",
       "  <tbody>\n",
       "    <tr>\n",
       "      <th>20</th>\n",
       "      <td>ROBO A NEGOCIO SIN VIOLENCIA POR FARDEROS (TIE...</td>\n",
       "      <td>13445</td>\n",
       "    </tr>\n",
       "    <tr>\n",
       "      <th>67</th>\n",
       "      <td>ROBO A NEGOCIO SIN VIOLENCIA POR FARDEROS</td>\n",
       "      <td>1728</td>\n",
       "    </tr>\n",
       "    <tr>\n",
       "      <th>68</th>\n",
       "      <td>ROBO A NEGOCIO SIN VIOLENCIA POR FARDEROS (TIE...</td>\n",
       "      <td>1674</td>\n",
       "    </tr>\n",
       "  </tbody>\n",
       "</table>\n",
       "</div>"
      ],
      "text/plain": [
       "                                                index  delito\n",
       "20  ROBO A NEGOCIO SIN VIOLENCIA POR FARDEROS (TIE...   13445\n",
       "67          ROBO A NEGOCIO SIN VIOLENCIA POR FARDEROS    1728\n",
       "68  ROBO A NEGOCIO SIN VIOLENCIA POR FARDEROS (TIE...    1674"
      ]
     },
     "execution_count": 153,
     "metadata": {},
     "output_type": "execute_result"
    }
   ],
   "source": [
    "subcat[subcat[\"index\"].str.contains(\"FARDEROS\")]"
   ]
  },
  {
   "cell_type": "markdown",
   "id": "e7b20cb3",
   "metadata": {},
   "source": [
    "#### ROBO A NEGOCIO"
   ]
  },
  {
   "cell_type": "code",
   "execution_count": 154,
   "id": "67644def",
   "metadata": {},
   "outputs": [
    {
     "data": {
      "text/html": [
       "<div>\n",
       "<style scoped>\n",
       "    .dataframe tbody tr th:only-of-type {\n",
       "        vertical-align: middle;\n",
       "    }\n",
       "\n",
       "    .dataframe tbody tr th {\n",
       "        vertical-align: top;\n",
       "    }\n",
       "\n",
       "    .dataframe thead th {\n",
       "        text-align: right;\n",
       "    }\n",
       "</style>\n",
       "<table border=\"1\" class=\"dataframe\">\n",
       "  <thead>\n",
       "    <tr style=\"text-align: right;\">\n",
       "      <th></th>\n",
       "      <th>index</th>\n",
       "      <th>delito</th>\n",
       "    </tr>\n",
       "  </thead>\n",
       "  <tbody>\n",
       "    <tr>\n",
       "      <th>4</th>\n",
       "      <td>ROBO A NEGOCIO SIN VIOLENCIA</td>\n",
       "      <td>69059</td>\n",
       "    </tr>\n",
       "    <tr>\n",
       "      <th>20</th>\n",
       "      <td>ROBO A NEGOCIO SIN VIOLENCIA POR FARDEROS (TIE...</td>\n",
       "      <td>13445</td>\n",
       "    </tr>\n",
       "    <tr>\n",
       "      <th>67</th>\n",
       "      <td>ROBO A NEGOCIO SIN VIOLENCIA POR FARDEROS</td>\n",
       "      <td>1728</td>\n",
       "    </tr>\n",
       "    <tr>\n",
       "      <th>68</th>\n",
       "      <td>ROBO A NEGOCIO SIN VIOLENCIA POR FARDEROS (TIE...</td>\n",
       "      <td>1674</td>\n",
       "    </tr>\n",
       "    <tr>\n",
       "      <th>157</th>\n",
       "      <td>ROBO A NEGOCIO Y VEHICULO SIN VIOLENCIA</td>\n",
       "      <td>107</td>\n",
       "    </tr>\n",
       "  </tbody>\n",
       "</table>\n",
       "</div>"
      ],
      "text/plain": [
       "                                                 index  delito\n",
       "4                         ROBO A NEGOCIO SIN VIOLENCIA   69059\n",
       "20   ROBO A NEGOCIO SIN VIOLENCIA POR FARDEROS (TIE...   13445\n",
       "67           ROBO A NEGOCIO SIN VIOLENCIA POR FARDEROS    1728\n",
       "68   ROBO A NEGOCIO SIN VIOLENCIA POR FARDEROS (TIE...    1674\n",
       "157            ROBO A NEGOCIO Y VEHICULO SIN VIOLENCIA     107"
      ]
     },
     "execution_count": 154,
     "metadata": {},
     "output_type": "execute_result"
    }
   ],
   "source": [
    "subcat[subcat[\"index\"].str.contains(\"ROBO A NEGOCIO\")]"
   ]
  },
  {
   "cell_type": "markdown",
   "id": "743176e5",
   "metadata": {},
   "source": [
    "#### Robo a transeunte"
   ]
  },
  {
   "cell_type": "code",
   "execution_count": 157,
   "id": "44b55ac0",
   "metadata": {
    "scrolled": true
   },
   "outputs": [
    {
     "data": {
      "text/html": [
       "<div>\n",
       "<style scoped>\n",
       "    .dataframe tbody tr th:only-of-type {\n",
       "        vertical-align: middle;\n",
       "    }\n",
       "\n",
       "    .dataframe tbody tr th {\n",
       "        vertical-align: top;\n",
       "    }\n",
       "\n",
       "    .dataframe thead th {\n",
       "        text-align: right;\n",
       "    }\n",
       "</style>\n",
       "<table border=\"1\" class=\"dataframe\">\n",
       "  <thead>\n",
       "    <tr style=\"text-align: right;\">\n",
       "      <th></th>\n",
       "      <th>index</th>\n",
       "      <th>delito</th>\n",
       "    </tr>\n",
       "  </thead>\n",
       "  <tbody>\n",
       "    <tr>\n",
       "      <th>19</th>\n",
       "      <td>ROBO A TRANSEUNTE DE CELULAR CON VIOLENCIA</td>\n",
       "      <td>13949</td>\n",
       "    </tr>\n",
       "    <tr>\n",
       "      <th>21</th>\n",
       "      <td>ROBO A TRANSEUNTE DE CELULAR SIN VIOLENCIA</td>\n",
       "      <td>11628</td>\n",
       "    </tr>\n",
       "    <tr>\n",
       "      <th>50</th>\n",
       "      <td>ROBO A TRANSEUNTE EN PARQUES Y MERCADOS CON VI...</td>\n",
       "      <td>3107</td>\n",
       "    </tr>\n",
       "    <tr>\n",
       "      <th>54</th>\n",
       "      <td>ROBO A TRANSEUNTE EN NEGOCIO CON VIOLENCIA</td>\n",
       "      <td>2868</td>\n",
       "    </tr>\n",
       "    <tr>\n",
       "      <th>74</th>\n",
       "      <td>ROBO A TRANSEUNTE CONDUCTOR DE TAXI PUBLICO Y ...</td>\n",
       "      <td>1434</td>\n",
       "    </tr>\n",
       "    <tr>\n",
       "      <th>88</th>\n",
       "      <td>ROBO A TRANSEUNTE A BORDO DE TAXI PUBLICO Y PR...</td>\n",
       "      <td>913</td>\n",
       "    </tr>\n",
       "    <tr>\n",
       "      <th>105</th>\n",
       "      <td>ROBO A TRANSEUNTE EN RESTAURANT CON VIOLENCIA</td>\n",
       "      <td>569</td>\n",
       "    </tr>\n",
       "    <tr>\n",
       "      <th>164</th>\n",
       "      <td>ROBO A TRANSEUNTE EN HOTEL CON VIOLENCIA</td>\n",
       "      <td>76</td>\n",
       "    </tr>\n",
       "    <tr>\n",
       "      <th>191</th>\n",
       "      <td>ROBO A TRANSEUNTE EN TERMINAL DE PASAJEROS CON...</td>\n",
       "      <td>21</td>\n",
       "    </tr>\n",
       "    <tr>\n",
       "      <th>202</th>\n",
       "      <td>ROBO A TRANSEUNTE Y VEHICULO CON VIOLENCIA</td>\n",
       "      <td>17</td>\n",
       "    </tr>\n",
       "    <tr>\n",
       "      <th>206</th>\n",
       "      <td>ROBO A TRANSEUNTE EN CINE CON VIOLENCIA</td>\n",
       "      <td>14</td>\n",
       "    </tr>\n",
       "  </tbody>\n",
       "</table>\n",
       "</div>"
      ],
      "text/plain": [
       "                                                 index  delito\n",
       "19          ROBO A TRANSEUNTE DE CELULAR CON VIOLENCIA   13949\n",
       "21          ROBO A TRANSEUNTE DE CELULAR SIN VIOLENCIA   11628\n",
       "50   ROBO A TRANSEUNTE EN PARQUES Y MERCADOS CON VI...    3107\n",
       "54          ROBO A TRANSEUNTE EN NEGOCIO CON VIOLENCIA    2868\n",
       "74   ROBO A TRANSEUNTE CONDUCTOR DE TAXI PUBLICO Y ...    1434\n",
       "88   ROBO A TRANSEUNTE A BORDO DE TAXI PUBLICO Y PR...     913\n",
       "105      ROBO A TRANSEUNTE EN RESTAURANT CON VIOLENCIA     569\n",
       "164           ROBO A TRANSEUNTE EN HOTEL CON VIOLENCIA      76\n",
       "191  ROBO A TRANSEUNTE EN TERMINAL DE PASAJEROS CON...      21\n",
       "202         ROBO A TRANSEUNTE Y VEHICULO CON VIOLENCIA      17\n",
       "206            ROBO A TRANSEUNTE EN CINE CON VIOLENCIA      14"
      ]
     },
     "execution_count": 157,
     "metadata": {},
     "output_type": "execute_result"
    }
   ],
   "source": [
    "subcat[subcat[\"index\"].str.contains(\"TRANSEUNTE\")]"
   ]
  },
  {
   "cell_type": "markdown",
   "id": "5730c000",
   "metadata": {},
   "source": [
    "#### Robo a casa"
   ]
  },
  {
   "cell_type": "code",
   "execution_count": 158,
   "id": "1547de84",
   "metadata": {},
   "outputs": [
    {
     "data": {
      "text/html": [
       "<div>\n",
       "<style scoped>\n",
       "    .dataframe tbody tr th:only-of-type {\n",
       "        vertical-align: middle;\n",
       "    }\n",
       "\n",
       "    .dataframe tbody tr th {\n",
       "        vertical-align: top;\n",
       "    }\n",
       "\n",
       "    .dataframe thead th {\n",
       "        text-align: right;\n",
       "    }\n",
       "</style>\n",
       "<table border=\"1\" class=\"dataframe\">\n",
       "  <thead>\n",
       "    <tr style=\"text-align: right;\">\n",
       "      <th></th>\n",
       "      <th>index</th>\n",
       "      <th>delito</th>\n",
       "    </tr>\n",
       "  </thead>\n",
       "  <tbody>\n",
       "    <tr>\n",
       "      <th>7</th>\n",
       "      <td>ROBO A CASA HABITACION SIN VIOLENCIA</td>\n",
       "      <td>32645</td>\n",
       "    </tr>\n",
       "    <tr>\n",
       "      <th>49</th>\n",
       "      <td>DANO EN PROPIEDAD AJENA INTENCIONAL A CASA HAB...</td>\n",
       "      <td>3133</td>\n",
       "    </tr>\n",
       "    <tr>\n",
       "      <th>126</th>\n",
       "      <td>ROBO A CASA HABITACION Y VEHICULO SIN VIOLENCIA</td>\n",
       "      <td>322</td>\n",
       "    </tr>\n",
       "  </tbody>\n",
       "</table>\n",
       "</div>"
      ],
      "text/plain": [
       "                                                 index  delito\n",
       "7                 ROBO A CASA HABITACION SIN VIOLENCIA   32645\n",
       "49   DANO EN PROPIEDAD AJENA INTENCIONAL A CASA HAB...    3133\n",
       "126    ROBO A CASA HABITACION Y VEHICULO SIN VIOLENCIA     322"
      ]
     },
     "execution_count": 158,
     "metadata": {},
     "output_type": "execute_result"
    }
   ],
   "source": [
    "subcat[subcat[\"index\"].str.contains(\"CASA\")]"
   ]
  },
  {
   "cell_type": "markdown",
   "id": "1f6d0f7d",
   "metadata": {},
   "source": [
    "## Pasos por definir"
   ]
  },
  {
   "cell_type": "markdown",
   "id": "751bd3de",
   "metadata": {},
   "source": [
    "Para el caso relacionado a pasajeros o temas relacionados al transporte público. \n",
    "- Podemos solo diferenciar por hechos con y sin violencia (al final solo tendríamos dos categorias)\n",
    "- Trabajar con series multivariadas para predecir los delitos relacionados al transporte público. El problema que se me ocurre aquí es, ¿la indexación por tiempo nos permitirá trabajar con series recurrentes o convolucionales? \n",
    "\n",
    "Para el resto de subcategorias, como lo son Negocio, transeutes, casa, se siguen las mismas ideas.\n",
    "\n",
    "Otra cosa podría ser solo sacar de las subcategroias de delitos de bajo impacto las problemáticas antes mencionadas. Esto reduciría las subcategorias y reducirá el impacto del desbalance de datos.\n",
    "\n",
    "Definir dos categorias maestras (Alto impacto y bajo impacto). Para las de bajo impacto quizás aplicar todas las ideas anteriores (conjuntar categorias relacionadas a robos de pasajeros, casa, delitos sexuales), separar si fue con o sin violencia. Una vez hecho esto, predecir delitos de bajo impacto. (Tendrías que definir una categoría como \"otros delitos\" o \"delitos varios\")."
   ]
  },
  {
   "cell_type": "code",
   "execution_count": null,
   "id": "0697eef0",
   "metadata": {},
   "outputs": [],
   "source": []
  }
 ],
 "metadata": {
  "kernelspec": {
   "display_name": "ciencia_de_datos-kernel",
   "language": "python",
   "name": "ciencia_de_datos-kernel"
  },
  "language_info": {
   "codemirror_mode": {
    "name": "ipython",
    "version": 3
   },
   "file_extension": ".py",
   "mimetype": "text/x-python",
   "name": "python",
   "nbconvert_exporter": "python",
   "pygments_lexer": "ipython3",
   "version": "3.10.4"
  }
 },
 "nbformat": 4,
 "nbformat_minor": 5
}
